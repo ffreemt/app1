{
  "nbformat": 4,
  "nbformat_minor": 0,
  "metadata": {
    "colab": {
      "provenance": [],
      "gpuType": "T4",
      "include_colab_link": true
    },
    "kernelspec": {
      "name": "python3",
      "display_name": "Python 3"
    },
    "language_info": {
      "name": "python"
    },
    "accelerator": "GPU"
  },
  "cells": [
    {
      "cell_type": "markdown",
      "metadata": {
        "id": "view-in-github",
        "colab_type": "text"
      },
      "source": [
        "<a href=\"https://colab.research.google.com/github/ffreemt/app1/blob/master/succ_llama_cpp_cloab_proxyPort_kdnuggets_Awan_Mixtral_8x7b_on_Google_Colab_Free.ipynb\" target=\"_parent\"><img src=\"https://colab.research.google.com/assets/colab-badge.svg\" alt=\"Open In Colab\"/></a>"
      ]
    },
    {
      "cell_type": "markdown",
      "source": [
        "- https://colab.research.google.com/drive/1gQ1lpSH-BhbKN-DdBmq5r8-8Rw8q1p9r?usp=sharing\n",
        "\n",
        "https://www.kdnuggets.com/running-mixtral-8x7b-on-google-colab-for-free"
      ],
      "metadata": {
        "id": "4SGViW5sxBko"
      }
    },
    {
      "cell_type": "code",
      "source": [
        "from IPython.display import clear_output as clear"
      ],
      "metadata": {
        "id": "65cXYH4kxbzv"
      },
      "execution_count": 1,
      "outputs": []
    },
    {
      "cell_type": "code",
      "execution_count": 2,
      "metadata": {
        "colab": {
          "base_uri": "https://localhost:8080/"
        },
        "id": "90jDYDBHaIg-",
        "outputId": "10a49dce-6b81-4dcf-d552-223c31ac1f35"
      },
      "outputs": [
        {
          "output_type": "stream",
          "name": "stdout",
          "text": [
            "CPU times: user 1.06 s, sys: 154 ms, total: 1.22 s\n",
            "Wall time: 2min 51s\n"
          ]
        }
      ],
      "source": [
        "%%time\n",
        "!git clone --depth 1 https://github.com/ggerganov/llama.cpp.git\n",
        "%cd llama.cpp\n",
        "!make LLAMA_CUBLAS=1\n",
        "clear()\n",
        "\n",
        "# eta: Wall time: 2min 51s"
      ]
    },
    {
      "cell_type": "code",
      "source": [
        "# !wget -c https://huggingface.co/TheBloke/Mixtral-8x7B-Instruct-v0.1-GGUF/resolve/main/mixtral-8x7b-instruct-v0.1.Q2_K.gguf\n",
        "# 1m 57s\n",
        "\n",
        "!apt install aria2\n",
        "!aria2c -x 3 https://huggingface.co/TheBloke/Mixtral-8x7B-Instruct-v0.1-GGUF/resolve/main/mixtral-8x7b-instruct-v0.1.Q2_K.gguf -o mixtral-8x7b-instruct-v0.1.Q2_K.gguf\n",
        "# eta 24s"
      ],
      "metadata": {
        "colab": {
          "base_uri": "https://localhost:8080/"
        },
        "id": "mP71CeHbampL",
        "outputId": "47b932b0-79a3-4e8b-840e-0ffd14985bc0"
      },
      "execution_count": 3,
      "outputs": [
        {
          "output_type": "stream",
          "name": "stdout",
          "text": [
            "Reading package lists... Done\n",
            "Building dependency tree... Done\n",
            "Reading state information... Done\n",
            "The following additional packages will be installed:\n",
            "  libaria2-0 libc-ares2\n",
            "The following NEW packages will be installed:\n",
            "  aria2 libaria2-0 libc-ares2\n",
            "0 upgraded, 3 newly installed, 0 to remove and 31 not upgraded.\n",
            "Need to get 1,513 kB of archives.\n",
            "After this operation, 5,441 kB of additional disk space will be used.\n",
            "Get:1 http://archive.ubuntu.com/ubuntu jammy-updates/main amd64 libc-ares2 amd64 1.18.1-1ubuntu0.22.04.2 [45.0 kB]\n",
            "Get:2 http://archive.ubuntu.com/ubuntu jammy/universe amd64 libaria2-0 amd64 1.36.0-1 [1,086 kB]\n",
            "Get:3 http://archive.ubuntu.com/ubuntu jammy/universe amd64 aria2 amd64 1.36.0-1 [381 kB]\n",
            "Fetched 1,513 kB in 1s (2,081 kB/s)\n",
            "Selecting previously unselected package libc-ares2:amd64.\n",
            "(Reading database ... 121671 files and directories currently installed.)\n",
            "Preparing to unpack .../libc-ares2_1.18.1-1ubuntu0.22.04.2_amd64.deb ...\n",
            "Unpacking libc-ares2:amd64 (1.18.1-1ubuntu0.22.04.2) ...\n",
            "Selecting previously unselected package libaria2-0:amd64.\n",
            "Preparing to unpack .../libaria2-0_1.36.0-1_amd64.deb ...\n",
            "Unpacking libaria2-0:amd64 (1.36.0-1) ...\n",
            "Selecting previously unselected package aria2.\n",
            "Preparing to unpack .../aria2_1.36.0-1_amd64.deb ...\n",
            "Unpacking aria2 (1.36.0-1) ...\n",
            "Setting up libc-ares2:amd64 (1.18.1-1ubuntu0.22.04.2) ...\n",
            "Setting up libaria2-0:amd64 (1.36.0-1) ...\n",
            "Setting up aria2 (1.36.0-1) ...\n",
            "Processing triggers for man-db (2.10.2-1) ...\n",
            "Processing triggers for libc-bin (2.35-0ubuntu3.4) ...\n",
            "/sbin/ldconfig.real: /usr/local/lib/libtbbbind.so.3 is not a symbolic link\n",
            "\n",
            "/sbin/ldconfig.real: /usr/local/lib/libtbbbind_2_0.so.3 is not a symbolic link\n",
            "\n",
            "/sbin/ldconfig.real: /usr/local/lib/libtbbbind_2_5.so.3 is not a symbolic link\n",
            "\n",
            "/sbin/ldconfig.real: /usr/local/lib/libtbbmalloc_proxy.so.2 is not a symbolic link\n",
            "\n",
            "/sbin/ldconfig.real: /usr/local/lib/libtbbmalloc.so.2 is not a symbolic link\n",
            "\n",
            "/sbin/ldconfig.real: /usr/local/lib/libtbb.so.12 is not a symbolic link\n",
            "\n",
            "\n",
            "01/29 05:15:49 [\u001b[1;32mNOTICE\u001b[0m] Downloading 1 item(s)\n",
            "\n",
            "01/29 05:15:49 [\u001b[1;32mNOTICE\u001b[0m] CUID#7 - Redirecting to https://cdn-lfs-us-1.huggingface.co/repos/ac/ba/acba0635d39a127379c2c6ae1cefacc586bf413e8b044c5ca82daade27d7d503/d54b4f4ec06dbae558d25b2d1542417cdf9547907342db85eecd05b6e96e88f8?response-content-disposition=attachment%3B+filename*%3DUTF-8%27%27mixtral-8x7b-instruct-v0.1.Q2_K.gguf%3B+filename%3D%22mixtral-8x7b-instruct-v0.1.Q2_K.gguf%22%3B&Expires=1706764549&Policy=eyJTdGF0ZW1lbnQiOlt7IkNvbmRpdGlvbiI6eyJEYXRlTGVzc1RoYW4iOnsiQVdTOkVwb2NoVGltZSI6MTcwNjc2NDU0OX19LCJSZXNvdXJjZSI6Imh0dHBzOi8vY2RuLWxmcy11cy0xLmh1Z2dpbmdmYWNlLmNvL3JlcG9zL2FjL2JhL2FjYmEwNjM1ZDM5YTEyNzM3OWMyYzZhZTFjZWZhY2M1ODZiZjQxM2U4YjA0NGM1Y2E4MmRhYWRlMjdkN2Q1MDMvZDU0YjRmNGVjMDZkYmFlNTU4ZDI1YjJkMTU0MjQxN2NkZjk1NDc5MDczNDJkYjg1ZWVjZDA1YjZlOTZlODhmOD9yZXNwb25zZS1jb250ZW50LWRpc3Bvc2l0aW9uPSoifV19&Signature=hiRC3W7JHCE%7EBQzvKVUxtWwMVKhr1qc8UEy-b5hSQMCOshdhNR32yhVhTr87DeD2OIXSIWnn5yCP3gbApxp6ywR-3TVCECGZBCWZ7-nuOCZO2DjqiD64avZVVeQLQeOkpUOG6DV26oZksOoXEnk7VwBiXvGCSigGd17wFCQen2orISF6cwLHglkrfcor5p-zdfDuwoprzxh1sA3tcm7DsSArOy7ExY9zmEIs%7EUXCM6cGY3XQ4l9sPnVBtCkt02EJYNawEWjou7fOFQ8j23zP1x88vO0AP0evlHNWQnNp74hp97ZcLn-3%7Em-bhM8SIhiSBFX6g9xprhq81zsr23Bf4A__&Key-Pair-Id=KCD77M1F0VK2B\n",
            "\n",
            "01/29 05:15:50 [\u001b[1;32mNOTICE\u001b[0m] CUID#9 - Redirecting to https://cdn-lfs-us-1.huggingface.co/repos/ac/ba/acba0635d39a127379c2c6ae1cefacc586bf413e8b044c5ca82daade27d7d503/d54b4f4ec06dbae558d25b2d1542417cdf9547907342db85eecd05b6e96e88f8?response-content-disposition=attachment%3B+filename*%3DUTF-8%27%27mixtral-8x7b-instruct-v0.1.Q2_K.gguf%3B+filename%3D%22mixtral-8x7b-instruct-v0.1.Q2_K.gguf%22%3B&Expires=1706764550&Policy=eyJTdGF0ZW1lbnQiOlt7IkNvbmRpdGlvbiI6eyJEYXRlTGVzc1RoYW4iOnsiQVdTOkVwb2NoVGltZSI6MTcwNjc2NDU1MH19LCJSZXNvdXJjZSI6Imh0dHBzOi8vY2RuLWxmcy11cy0xLmh1Z2dpbmdmYWNlLmNvL3JlcG9zL2FjL2JhL2FjYmEwNjM1ZDM5YTEyNzM3OWMyYzZhZTFjZWZhY2M1ODZiZjQxM2U4YjA0NGM1Y2E4MmRhYWRlMjdkN2Q1MDMvZDU0YjRmNGVjMDZkYmFlNTU4ZDI1YjJkMTU0MjQxN2NkZjk1NDc5MDczNDJkYjg1ZWVjZDA1YjZlOTZlODhmOD9yZXNwb25zZS1jb250ZW50LWRpc3Bvc2l0aW9uPSoifV19&Signature=erjS4awTxenZ97lsC5P8v%7EhNzg9xs1T-HDGhB7rs6oKSP7SJtaeEFdxl1LcoJ27y5lA1Lm-Ht9kSaH5zuizot6-QgTvUzBzwh8lxCnomUmvhv40zHON7C2GpGP7gpEbiLo7yCvj8apbYRK3i35XNM95wKoOrkl53B91kQCzLy2pg-Gp30M-9cF-Gs2ggu9iqf0wl9MpkBGFuCTnUhz-4aiixyQT-EKH%7EK8qwMkpNUz00A0GwP6o4CLCYYJWEEgKwev8y%7EdCFzpsqJA0rk%7EKcZBLqJvQ5i1ijdNVpfTHEa4mWgD8BGfYs2-iv6cJhUF4zkk03DMCeihyUv2%7EdqrV2UQ__&Key-Pair-Id=KCD77M1F0VK2B\n",
            "\n",
            "01/29 05:15:50 [\u001b[1;32mNOTICE\u001b[0m] CUID#10 - Redirecting to https://cdn-lfs-us-1.huggingface.co/repos/ac/ba/acba0635d39a127379c2c6ae1cefacc586bf413e8b044c5ca82daade27d7d503/d54b4f4ec06dbae558d25b2d1542417cdf9547907342db85eecd05b6e96e88f8?response-content-disposition=attachment%3B+filename*%3DUTF-8%27%27mixtral-8x7b-instruct-v0.1.Q2_K.gguf%3B+filename%3D%22mixtral-8x7b-instruct-v0.1.Q2_K.gguf%22%3B&Expires=1706764550&Policy=eyJTdGF0ZW1lbnQiOlt7IkNvbmRpdGlvbiI6eyJEYXRlTGVzc1RoYW4iOnsiQVdTOkVwb2NoVGltZSI6MTcwNjc2NDU1MH19LCJSZXNvdXJjZSI6Imh0dHBzOi8vY2RuLWxmcy11cy0xLmh1Z2dpbmdmYWNlLmNvL3JlcG9zL2FjL2JhL2FjYmEwNjM1ZDM5YTEyNzM3OWMyYzZhZTFjZWZhY2M1ODZiZjQxM2U4YjA0NGM1Y2E4MmRhYWRlMjdkN2Q1MDMvZDU0YjRmNGVjMDZkYmFlNTU4ZDI1YjJkMTU0MjQxN2NkZjk1NDc5MDczNDJkYjg1ZWVjZDA1YjZlOTZlODhmOD9yZXNwb25zZS1jb250ZW50LWRpc3Bvc2l0aW9uPSoifV19&Signature=erjS4awTxenZ97lsC5P8v%7EhNzg9xs1T-HDGhB7rs6oKSP7SJtaeEFdxl1LcoJ27y5lA1Lm-Ht9kSaH5zuizot6-QgTvUzBzwh8lxCnomUmvhv40zHON7C2GpGP7gpEbiLo7yCvj8apbYRK3i35XNM95wKoOrkl53B91kQCzLy2pg-Gp30M-9cF-Gs2ggu9iqf0wl9MpkBGFuCTnUhz-4aiixyQT-EKH%7EK8qwMkpNUz00A0GwP6o4CLCYYJWEEgKwev8y%7EdCFzpsqJA0rk%7EKcZBLqJvQ5i1ijdNVpfTHEa4mWgD8BGfYs2-iv6cJhUF4zkk03DMCeihyUv2%7EdqrV2UQ__&Key-Pair-Id=KCD77M1F0VK2B\n",
            " *** Download Progress Summary as of Mon Jan 29 05:16:50 2024 *** \n",
            "=\n",
            "[#c1067e 10GiB/14GiB(70%) CN:3 DL:177MiB ETA:24s]\n",
            "FILE: /content/llama.cpp/mixtral-8x7b-instruct-v0.1.Q2_K.gguf\n",
            "-\n",
            "\n",
            "\u001b[0m\n",
            "01/29 05:17:16 [\u001b[1;32mNOTICE\u001b[0m] Download complete: /content/llama.cpp/mixtral-8x7b-instruct-v0.1.Q2_K.gguf\n",
            "\n",
            "Download Results:\n",
            "gid   |stat|avg speed  |path/URI\n",
            "======+====+===========+=======================================================\n",
            "c1067e|\u001b[1;32mOK\u001b[0m  |   172MiB/s|/content/llama.cpp/mixtral-8x7b-instruct-v0.1.Q2_K.gguf\n",
            "\n",
            "Status Legend:\n",
            "(OK):download completed.\n"
          ]
        }
      ]
    },
    {
      "cell_type": "code",
      "source": [
        "from google.colab.output import eval_js\n",
        "print(eval_js(\"google.colab.kernel.proxyPort(6589)\"))"
      ],
      "metadata": {
        "colab": {
          "base_uri": "https://localhost:8080/",
          "height": 35
        },
        "id": "sXPZ3ucIanX0",
        "outputId": "a44b3848-c226-4a42-950d-fd7fee79e1b0"
      },
      "execution_count": 4,
      "outputs": [
        {
          "output_type": "stream",
          "name": "stdout",
          "text": [
            "https://nn28y7ks8c-496ff2e9c6d22116-6589-colab.googleusercontent.com/\n"
          ]
        }
      ]
    },
    {
      "cell_type": "code",
      "source": [
        "%cd /content/llama.cpp\n",
        "\n",
        "!./server -m mixtral-8x7b-instruct-v0.1.Q2_K.gguf -ngl 27 -c 2048 --port 6589"
      ],
      "metadata": {
        "colab": {
          "base_uri": "https://localhost:8080/"
        },
        "id": "wdxe8x_tat2m",
        "outputId": "c3b07527-79f1-4c18-aca5-b9e18a888cb4"
      },
      "execution_count": null,
      "outputs": [
        {
          "output_type": "stream",
          "name": "stdout",
          "text": [
            "/content/llama.cpp\n",
            "ggml_init_cublas: GGML_CUDA_FORCE_MMQ:   no\n",
            "ggml_init_cublas: CUDA_USE_TENSOR_CORES: yes\n",
            "ggml_init_cublas: found 1 CUDA devices:\n",
            "  Device 0: Tesla T4, compute capability 7.5, VMM: yes\n",
            "{\"timestamp\":1706505455,\"level\":\"INFO\",\"function\":\"main\",\"line\":2418,\"message\":\"build info\",\"build\":1,\"commit\":\"d2f650c\"}\n",
            "{\"timestamp\":1706505455,\"level\":\"INFO\",\"function\":\"main\",\"line\":2421,\"message\":\"system info\",\"n_threads\":2,\"n_threads_batch\":-1,\"total_threads\":2,\"system_info\":\"AVX = 1 | AVX_VNNI = 0 | AVX2 = 1 | AVX512 = 1 | AVX512_VBMI = 0 | AVX512_VNNI = 0 | FMA = 1 | NEON = 0 | ARM_FMA = 0 | F16C = 1 | FP16_VA = 0 | WASM_SIMD = 0 | BLAS = 1 | SSE3 = 1 | SSSE3 = 1 | VSX = 0 | \"}\n",
            "\n",
            "llama server listening at http://127.0.0.1:6589\n",
            "\n",
            "{\"timestamp\":1706505455,\"level\":\"INFO\",\"function\":\"main\",\"line\":2525,\"message\":\"HTTP server listening\",\"port\":\"6589\",\"hostname\":\"127.0.0.1\"}\n",
            "llama_model_loader: loaded meta data with 26 key-value pairs and 995 tensors from mixtral-8x7b-instruct-v0.1.Q2_K.gguf (version GGUF V3 (latest))\n",
            "llama_model_loader: Dumping metadata keys/values. Note: KV overrides do not apply in this output.\n",
            "llama_model_loader: - kv   0:                       general.architecture str              = llama\n",
            "llama_model_loader: - kv   1:                               general.name str              = mistralai_mixtral-8x7b-instruct-v0.1\n",
            "llama_model_loader: - kv   2:                       llama.context_length u32              = 32768\n",
            "llama_model_loader: - kv   3:                     llama.embedding_length u32              = 4096\n",
            "llama_model_loader: - kv   4:                          llama.block_count u32              = 32\n",
            "llama_model_loader: - kv   5:                  llama.feed_forward_length u32              = 14336\n",
            "llama_model_loader: - kv   6:                 llama.rope.dimension_count u32              = 128\n",
            "llama_model_loader: - kv   7:                 llama.attention.head_count u32              = 32\n",
            "llama_model_loader: - kv   8:              llama.attention.head_count_kv u32              = 8\n",
            "llama_model_loader: - kv   9:                         llama.expert_count u32              = 8\n",
            "llama_model_loader: - kv  10:                    llama.expert_used_count u32              = 2\n",
            "llama_model_loader: - kv  11:     llama.attention.layer_norm_rms_epsilon f32              = 0.000010\n",
            "llama_model_loader: - kv  12:                       llama.rope.freq_base f32              = 1000000.000000\n",
            "llama_model_loader: - kv  13:                          general.file_type u32              = 10\n",
            "llama_model_loader: - kv  14:                       tokenizer.ggml.model str              = llama\n",
            "llama_model_loader: - kv  15:                      tokenizer.ggml.tokens arr[str,32000]   = [\"<unk>\", \"<s>\", \"</s>\", \"<0x00>\", \"<...\n",
            "llama_model_loader: - kv  16:                      tokenizer.ggml.scores arr[f32,32000]   = [0.000000, 0.000000, 0.000000, 0.0000...\n",
            "llama_model_loader: - kv  17:                  tokenizer.ggml.token_type arr[i32,32000]   = [2, 3, 3, 6, 6, 6, 6, 6, 6, 6, 6, 6, ...\n",
            "llama_model_loader: - kv  18:                tokenizer.ggml.bos_token_id u32              = 1\n",
            "llama_model_loader: - kv  19:                tokenizer.ggml.eos_token_id u32              = 2\n",
            "llama_model_loader: - kv  20:            tokenizer.ggml.unknown_token_id u32              = 0\n",
            "llama_model_loader: - kv  21:            tokenizer.ggml.padding_token_id u32              = 0\n",
            "llama_model_loader: - kv  22:               tokenizer.ggml.add_bos_token bool             = true\n",
            "llama_model_loader: - kv  23:               tokenizer.ggml.add_eos_token bool             = false\n",
            "llama_model_loader: - kv  24:                    tokenizer.chat_template str              = {{ bos_token }}{% for message in mess...\n",
            "llama_model_loader: - kv  25:               general.quantization_version u32              = 2\n",
            "llama_model_loader: - type  f32:   65 tensors\n",
            "llama_model_loader: - type  f16:   32 tensors\n",
            "llama_model_loader: - type q8_0:   64 tensors\n",
            "llama_model_loader: - type q2_K:  801 tensors\n",
            "llama_model_loader: - type q3_K:   32 tensors\n",
            "llama_model_loader: - type q6_K:    1 tensors\n",
            "llm_load_vocab: special tokens definition check successful ( 259/32000 ).\n",
            "llm_load_print_meta: format           = GGUF V3 (latest)\n",
            "llm_load_print_meta: arch             = llama\n",
            "llm_load_print_meta: vocab type       = SPM\n",
            "llm_load_print_meta: n_vocab          = 32000\n",
            "llm_load_print_meta: n_merges         = 0\n",
            "llm_load_print_meta: n_ctx_train      = 32768\n",
            "llm_load_print_meta: n_embd           = 4096\n",
            "llm_load_print_meta: n_head           = 32\n",
            "llm_load_print_meta: n_head_kv        = 8\n",
            "llm_load_print_meta: n_layer          = 32\n",
            "llm_load_print_meta: n_rot            = 128\n",
            "llm_load_print_meta: n_embd_head_k    = 128\n",
            "llm_load_print_meta: n_embd_head_v    = 128\n",
            "llm_load_print_meta: n_gqa            = 4\n",
            "llm_load_print_meta: n_embd_k_gqa     = 1024\n",
            "llm_load_print_meta: n_embd_v_gqa     = 1024\n",
            "llm_load_print_meta: f_norm_eps       = 0.0e+00\n",
            "llm_load_print_meta: f_norm_rms_eps   = 1.0e-05\n",
            "llm_load_print_meta: f_clamp_kqv      = 0.0e+00\n",
            "llm_load_print_meta: f_max_alibi_bias = 0.0e+00\n",
            "llm_load_print_meta: n_ff             = 14336\n",
            "llm_load_print_meta: n_expert         = 8\n",
            "llm_load_print_meta: n_expert_used    = 2\n",
            "llm_load_print_meta: rope scaling     = linear\n",
            "llm_load_print_meta: freq_base_train  = 1000000.0\n",
            "llm_load_print_meta: freq_scale_train = 1\n",
            "llm_load_print_meta: n_yarn_orig_ctx  = 32768\n",
            "llm_load_print_meta: rope_finetuned   = unknown\n",
            "llm_load_print_meta: model type       = 7B\n",
            "llm_load_print_meta: model ftype      = Q2_K - Medium\n",
            "llm_load_print_meta: model params     = 46.70 B\n",
            "llm_load_print_meta: model size       = 14.57 GiB (2.68 BPW) \n",
            "llm_load_print_meta: general.name     = mistralai_mixtral-8x7b-instruct-v0.1\n",
            "llm_load_print_meta: BOS token        = 1 '<s>'\n",
            "llm_load_print_meta: EOS token        = 2 '</s>'\n",
            "llm_load_print_meta: UNK token        = 0 '<unk>'\n",
            "llm_load_print_meta: PAD token        = 0 '<unk>'\n",
            "llm_load_print_meta: LF token         = 13 '<0x0A>'\n",
            "llm_load_tensors: ggml ctx size =    0.76 MiB\n",
            "{\"timestamp\":1706505476,\"level\":\"INFO\",\"function\":\"log_server_request\",\"line\":2359,\"message\":\"request\",\"remote_addr\":\"127.0.0.1\",\"remote_port\":34338,\"status\":200,\"method\":\"GET\",\"path\":\"/\",\"params\":{}}\n",
            "{\"timestamp\":1706505477,\"level\":\"INFO\",\"function\":\"log_server_request\",\"line\":2359,\"message\":\"request\",\"remote_addr\":\"127.0.0.1\",\"remote_port\":40282,\"status\":200,\"method\":\"GET\",\"path\":\"/index.js\",\"params\":{}}\n",
            "{\"timestamp\":1706505477,\"level\":\"INFO\",\"function\":\"log_server_request\",\"line\":2359,\"message\":\"request\",\"remote_addr\":\"127.0.0.1\",\"remote_port\":40294,\"status\":200,\"method\":\"GET\",\"path\":\"/json-schema-to-grammar.mjs\",\"params\":{}}\n",
            "{\"timestamp\":1706505477,\"level\":\"INFO\",\"function\":\"log_server_request\",\"line\":2359,\"message\":\"request\",\"remote_addr\":\"127.0.0.1\",\"remote_port\":40308,\"status\":200,\"method\":\"GET\",\"path\":\"/completion.js\",\"params\":{}}\n",
            "{\"timestamp\":1706505479,\"level\":\"INFO\",\"function\":\"log_server_request\",\"line\":2359,\"message\":\"request\",\"remote_addr\":\"127.0.0.1\",\"remote_port\":40310,\"status\":404,\"method\":\"GET\",\"path\":\"/favicon.ico\",\"params\":{}}\n",
            "llm_load_tensors: offloading 27 repeating layers to GPU\n",
            "llm_load_tensors: offloaded 27/33 layers to GPU\n",
            "llm_load_tensors:        CPU buffer size = 14918.57 MiB\n",
            "llm_load_tensors:      CUDA0 buffer size = 12466.41 MiB\n",
            "......................{\"timestamp\":1706505520,\"level\":\"INFO\",\"function\":\"log_server_request\",\"line\":2359,\"message\":\"request\",\"remote_addr\":\"127.0.0.1\",\"remote_port\":48968,\"status\":404,\"method\":\"POST\",\"path\":\"/completion\",\"params\":{}}\n",
            "..................{\"timestamp\":1706505531,\"level\":\"INFO\",\"function\":\"log_server_request\",\"line\":2359,\"message\":\"request\",\"remote_addr\":\"127.0.0.1\",\"remote_port\":55720,\"status\":404,\"method\":\"POST\",\"path\":\"/completion\",\"params\":{}}\n",
            "............................................................\n",
            "llama_new_context_with_model: n_ctx      = 2048\n",
            "llama_new_context_with_model: freq_base  = 1000000.0\n",
            "llama_new_context_with_model: freq_scale = 1\n",
            "llama_kv_cache_init:  CUDA_Host KV buffer size =    40.00 MiB\n",
            "llama_kv_cache_init:      CUDA0 KV buffer size =   216.00 MiB\n",
            "llama_new_context_with_model: KV self size  =  256.00 MiB, K (f16):  128.00 MiB, V (f16):  128.00 MiB\n",
            "llama_new_context_with_model:  CUDA_Host input buffer size   =    12.01 MiB\n",
            "llama_new_context_with_model:      CUDA0 compute buffer size =   211.21 MiB\n",
            "llama_new_context_with_model:  CUDA_Host compute buffer size =   198.03 MiB\n",
            "llama_new_context_with_model: graph splits (measure): 5\n",
            "Available slots:\n",
            " -> Slot 0 - max context: 2048\n",
            "{\"timestamp\":1706505562,\"level\":\"INFO\",\"function\":\"main\",\"line\":2546,\"message\":\"model loaded\"}\n",
            "all slots are idle and system prompt is empty, clear the KV cache\n",
            "slot 0 is processing [task id: 0]\n",
            "slot 0 : in cache: 0 tokens | to process: 63 tokens\n",
            "slot 0 : kv cache rm - [0, end)\n",
            "\n",
            "print_timings: prompt eval time =    7566.88 ms /    63 tokens (  120.11 ms per token,     8.33 tokens per second)\n",
            "print_timings:        eval time =    2197.38 ms /    14 runs   (  156.96 ms per token,     6.37 tokens per second)\n",
            "print_timings:       total time =    9764.26 ms\n",
            "slot 0 released (77 tokens in cache)\n",
            "{\"timestamp\":1706505639,\"level\":\"INFO\",\"function\":\"log_server_request\",\"line\":2359,\"message\":\"request\",\"remote_addr\":\"127.0.0.1\",\"remote_port\":49208,\"status\":200,\"method\":\"POST\",\"path\":\"/completion\",\"params\":{}}\n",
            "slot 0 is processing [task id: 17]\n",
            "slot 0 : in cache: 75 tokens | to process: 10 tokens\n",
            "slot 0 : kv cache rm - [75, end)\n",
            "\n",
            "print_timings: prompt eval time =    1214.13 ms /    10 tokens (  121.41 ms per token,     8.24 tokens per second)\n",
            "print_timings:        eval time =    4671.49 ms /    33 runs   (  141.56 ms per token,     7.06 tokens per second)\n",
            "print_timings:       total time =    5885.62 ms\n",
            "slot 0 released (118 tokens in cache)\n",
            "{\"timestamp\":1706505656,\"level\":\"INFO\",\"function\":\"log_server_request\",\"line\":2359,\"message\":\"request\",\"remote_addr\":\"127.0.0.1\",\"remote_port\":49760,\"status\":200,\"method\":\"POST\",\"path\":\"/completion\",\"params\":{}}\n",
            "slot 0 is processing [task id: 53]\n",
            "slot 0 : in cache: 116 tokens | to process: 61 tokens\n",
            "slot 0 : kv cache rm - [116, end)\n",
            "\n",
            "print_timings: prompt eval time =    1970.77 ms /    61 tokens (   32.31 ms per token,    30.95 tokens per second)\n",
            "print_timings:        eval time =    9756.57 ms /    58 runs   (  168.22 ms per token,     5.94 tokens per second)\n",
            "print_timings:       total time =   11727.33 ms\n",
            "slot 0 released (227 tokens in cache)\n",
            "{\"timestamp\":1706505703,\"level\":\"INFO\",\"function\":\"log_server_request\",\"line\":2359,\"message\":\"request\",\"remote_addr\":\"127.0.0.1\",\"remote_port\":33656,\"status\":200,\"method\":\"POST\",\"path\":\"/completion\",\"params\":{}}\n",
            "slot 0 is processing [task id: 114]\n",
            "slot 0 : in cache: 47 tokens | to process: 58 tokens\n",
            "slot 0 : kv cache rm - [47, end)\n",
            "\n",
            "print_timings: prompt eval time =    2918.15 ms /    58 tokens (   50.31 ms per token,    19.88 tokens per second)\n",
            "print_timings:        eval time =   15315.61 ms /    72 runs   (  212.72 ms per token,     4.70 tokens per second)\n",
            "print_timings:       total time =   18233.76 ms\n",
            "slot 0 released (171 tokens in cache)\n",
            "{\"timestamp\":1706505765,\"level\":\"INFO\",\"function\":\"log_server_request\",\"line\":2359,\"message\":\"request\",\"remote_addr\":\"127.0.0.1\",\"remote_port\":44678,\"status\":200,\"method\":\"POST\",\"path\":\"/completion\",\"params\":{}}\n"
          ]
        }
      ]
    }
  ]
}