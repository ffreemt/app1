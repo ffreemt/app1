{
  "nbformat": 4,
  "nbformat_minor": 0,
  "metadata": {
    "colab": {
      "provenance": [],
      "gpuType": "T4",
      "authorship_tag": "ABX9TyMkQW7Q/Rnh+z8TlMANCQfr",
      "include_colab_link": true
    },
    "kernelspec": {
      "name": "python3",
      "display_name": "Python 3"
    },
    "language_info": {
      "name": "python"
    },
    "accelerator": "GPU",
    "widgets": {
      "application/vnd.jupyter.widget-state+json": {
        "ddaeb673d3b94f78b51334ff31bb0104": {
          "model_module": "@jupyter-widgets/controls",
          "model_name": "HBoxModel",
          "model_module_version": "1.5.0",
          "state": {
            "_dom_classes": [],
            "_model_module": "@jupyter-widgets/controls",
            "_model_module_version": "1.5.0",
            "_model_name": "HBoxModel",
            "_view_count": null,
            "_view_module": "@jupyter-widgets/controls",
            "_view_module_version": "1.5.0",
            "_view_name": "HBoxView",
            "box_style": "",
            "children": [
              "IPY_MODEL_10d5adb197d84c4d9f7df360b55fd5e8",
              "IPY_MODEL_c64802c481e34d4cbca928ce08a8e652",
              "IPY_MODEL_e5277b88eeb14e5fadeb7b4f93cb6f3e"
            ],
            "layout": "IPY_MODEL_50f3030c986c406caaac4a4b16c8bc69"
          }
        },
        "10d5adb197d84c4d9f7df360b55fd5e8": {
          "model_module": "@jupyter-widgets/controls",
          "model_name": "HTMLModel",
          "model_module_version": "1.5.0",
          "state": {
            "_dom_classes": [],
            "_model_module": "@jupyter-widgets/controls",
            "_model_module_version": "1.5.0",
            "_model_name": "HTMLModel",
            "_view_count": null,
            "_view_module": "@jupyter-widgets/controls",
            "_view_module_version": "1.5.0",
            "_view_name": "HTMLView",
            "description": "",
            "description_tooltip": null,
            "layout": "IPY_MODEL_65be601f02784af1a9ff0ed2d9bb2639",
            "placeholder": "​",
            "style": "IPY_MODEL_c9a22c015a48482eb6a2156fb227888f",
            "value": "Loading checkpoint shards: 100%"
          }
        },
        "c64802c481e34d4cbca928ce08a8e652": {
          "model_module": "@jupyter-widgets/controls",
          "model_name": "FloatProgressModel",
          "model_module_version": "1.5.0",
          "state": {
            "_dom_classes": [],
            "_model_module": "@jupyter-widgets/controls",
            "_model_module_version": "1.5.0",
            "_model_name": "FloatProgressModel",
            "_view_count": null,
            "_view_module": "@jupyter-widgets/controls",
            "_view_module_version": "1.5.0",
            "_view_name": "ProgressView",
            "bar_style": "success",
            "description": "",
            "description_tooltip": null,
            "layout": "IPY_MODEL_bfc4763e665b4d669604783e72e3f6a6",
            "max": 2,
            "min": 0,
            "orientation": "horizontal",
            "style": "IPY_MODEL_c6d51f64504347edb87573a4784ee9cf",
            "value": 2
          }
        },
        "e5277b88eeb14e5fadeb7b4f93cb6f3e": {
          "model_module": "@jupyter-widgets/controls",
          "model_name": "HTMLModel",
          "model_module_version": "1.5.0",
          "state": {
            "_dom_classes": [],
            "_model_module": "@jupyter-widgets/controls",
            "_model_module_version": "1.5.0",
            "_model_name": "HTMLModel",
            "_view_count": null,
            "_view_module": "@jupyter-widgets/controls",
            "_view_module_version": "1.5.0",
            "_view_name": "HTMLView",
            "description": "",
            "description_tooltip": null,
            "layout": "IPY_MODEL_466c3692d1de4f4ab598623a68a72bb1",
            "placeholder": "​",
            "style": "IPY_MODEL_84bf94ec26f34cb6bff9a71dc866d194",
            "value": " 2/2 [01:03&lt;00:00, 28.98s/it]"
          }
        },
        "50f3030c986c406caaac4a4b16c8bc69": {
          "model_module": "@jupyter-widgets/base",
          "model_name": "LayoutModel",
          "model_module_version": "1.2.0",
          "state": {
            "_model_module": "@jupyter-widgets/base",
            "_model_module_version": "1.2.0",
            "_model_name": "LayoutModel",
            "_view_count": null,
            "_view_module": "@jupyter-widgets/base",
            "_view_module_version": "1.2.0",
            "_view_name": "LayoutView",
            "align_content": null,
            "align_items": null,
            "align_self": null,
            "border": null,
            "bottom": null,
            "display": null,
            "flex": null,
            "flex_flow": null,
            "grid_area": null,
            "grid_auto_columns": null,
            "grid_auto_flow": null,
            "grid_auto_rows": null,
            "grid_column": null,
            "grid_gap": null,
            "grid_row": null,
            "grid_template_areas": null,
            "grid_template_columns": null,
            "grid_template_rows": null,
            "height": null,
            "justify_content": null,
            "justify_items": null,
            "left": null,
            "margin": null,
            "max_height": null,
            "max_width": null,
            "min_height": null,
            "min_width": null,
            "object_fit": null,
            "object_position": null,
            "order": null,
            "overflow": null,
            "overflow_x": null,
            "overflow_y": null,
            "padding": null,
            "right": null,
            "top": null,
            "visibility": null,
            "width": null
          }
        },
        "65be601f02784af1a9ff0ed2d9bb2639": {
          "model_module": "@jupyter-widgets/base",
          "model_name": "LayoutModel",
          "model_module_version": "1.2.0",
          "state": {
            "_model_module": "@jupyter-widgets/base",
            "_model_module_version": "1.2.0",
            "_model_name": "LayoutModel",
            "_view_count": null,
            "_view_module": "@jupyter-widgets/base",
            "_view_module_version": "1.2.0",
            "_view_name": "LayoutView",
            "align_content": null,
            "align_items": null,
            "align_self": null,
            "border": null,
            "bottom": null,
            "display": null,
            "flex": null,
            "flex_flow": null,
            "grid_area": null,
            "grid_auto_columns": null,
            "grid_auto_flow": null,
            "grid_auto_rows": null,
            "grid_column": null,
            "grid_gap": null,
            "grid_row": null,
            "grid_template_areas": null,
            "grid_template_columns": null,
            "grid_template_rows": null,
            "height": null,
            "justify_content": null,
            "justify_items": null,
            "left": null,
            "margin": null,
            "max_height": null,
            "max_width": null,
            "min_height": null,
            "min_width": null,
            "object_fit": null,
            "object_position": null,
            "order": null,
            "overflow": null,
            "overflow_x": null,
            "overflow_y": null,
            "padding": null,
            "right": null,
            "top": null,
            "visibility": null,
            "width": null
          }
        },
        "c9a22c015a48482eb6a2156fb227888f": {
          "model_module": "@jupyter-widgets/controls",
          "model_name": "DescriptionStyleModel",
          "model_module_version": "1.5.0",
          "state": {
            "_model_module": "@jupyter-widgets/controls",
            "_model_module_version": "1.5.0",
            "_model_name": "DescriptionStyleModel",
            "_view_count": null,
            "_view_module": "@jupyter-widgets/base",
            "_view_module_version": "1.2.0",
            "_view_name": "StyleView",
            "description_width": ""
          }
        },
        "bfc4763e665b4d669604783e72e3f6a6": {
          "model_module": "@jupyter-widgets/base",
          "model_name": "LayoutModel",
          "model_module_version": "1.2.0",
          "state": {
            "_model_module": "@jupyter-widgets/base",
            "_model_module_version": "1.2.0",
            "_model_name": "LayoutModel",
            "_view_count": null,
            "_view_module": "@jupyter-widgets/base",
            "_view_module_version": "1.2.0",
            "_view_name": "LayoutView",
            "align_content": null,
            "align_items": null,
            "align_self": null,
            "border": null,
            "bottom": null,
            "display": null,
            "flex": null,
            "flex_flow": null,
            "grid_area": null,
            "grid_auto_columns": null,
            "grid_auto_flow": null,
            "grid_auto_rows": null,
            "grid_column": null,
            "grid_gap": null,
            "grid_row": null,
            "grid_template_areas": null,
            "grid_template_columns": null,
            "grid_template_rows": null,
            "height": null,
            "justify_content": null,
            "justify_items": null,
            "left": null,
            "margin": null,
            "max_height": null,
            "max_width": null,
            "min_height": null,
            "min_width": null,
            "object_fit": null,
            "object_position": null,
            "order": null,
            "overflow": null,
            "overflow_x": null,
            "overflow_y": null,
            "padding": null,
            "right": null,
            "top": null,
            "visibility": null,
            "width": null
          }
        },
        "c6d51f64504347edb87573a4784ee9cf": {
          "model_module": "@jupyter-widgets/controls",
          "model_name": "ProgressStyleModel",
          "model_module_version": "1.5.0",
          "state": {
            "_model_module": "@jupyter-widgets/controls",
            "_model_module_version": "1.5.0",
            "_model_name": "ProgressStyleModel",
            "_view_count": null,
            "_view_module": "@jupyter-widgets/base",
            "_view_module_version": "1.2.0",
            "_view_name": "StyleView",
            "bar_color": null,
            "description_width": ""
          }
        },
        "466c3692d1de4f4ab598623a68a72bb1": {
          "model_module": "@jupyter-widgets/base",
          "model_name": "LayoutModel",
          "model_module_version": "1.2.0",
          "state": {
            "_model_module": "@jupyter-widgets/base",
            "_model_module_version": "1.2.0",
            "_model_name": "LayoutModel",
            "_view_count": null,
            "_view_module": "@jupyter-widgets/base",
            "_view_module_version": "1.2.0",
            "_view_name": "LayoutView",
            "align_content": null,
            "align_items": null,
            "align_self": null,
            "border": null,
            "bottom": null,
            "display": null,
            "flex": null,
            "flex_flow": null,
            "grid_area": null,
            "grid_auto_columns": null,
            "grid_auto_flow": null,
            "grid_auto_rows": null,
            "grid_column": null,
            "grid_gap": null,
            "grid_row": null,
            "grid_template_areas": null,
            "grid_template_columns": null,
            "grid_template_rows": null,
            "height": null,
            "justify_content": null,
            "justify_items": null,
            "left": null,
            "margin": null,
            "max_height": null,
            "max_width": null,
            "min_height": null,
            "min_width": null,
            "object_fit": null,
            "object_position": null,
            "order": null,
            "overflow": null,
            "overflow_x": null,
            "overflow_y": null,
            "padding": null,
            "right": null,
            "top": null,
            "visibility": null,
            "width": null
          }
        },
        "84bf94ec26f34cb6bff9a71dc866d194": {
          "model_module": "@jupyter-widgets/controls",
          "model_name": "DescriptionStyleModel",
          "model_module_version": "1.5.0",
          "state": {
            "_model_module": "@jupyter-widgets/controls",
            "_model_module_version": "1.5.0",
            "_model_name": "DescriptionStyleModel",
            "_view_count": null,
            "_view_module": "@jupyter-widgets/base",
            "_view_module_version": "1.2.0",
            "_view_name": "StyleView",
            "description_width": ""
          }
        },
        "68dc1946985340338bdf167926af951d": {
          "model_module": "@jupyter-widgets/controls",
          "model_name": "HBoxModel",
          "model_module_version": "1.5.0",
          "state": {
            "_dom_classes": [],
            "_model_module": "@jupyter-widgets/controls",
            "_model_module_version": "1.5.0",
            "_model_name": "HBoxModel",
            "_view_count": null,
            "_view_module": "@jupyter-widgets/controls",
            "_view_module_version": "1.5.0",
            "_view_name": "HBoxView",
            "box_style": "",
            "children": [
              "IPY_MODEL_074cbb1b452b4b4ca8cf9866d842756e",
              "IPY_MODEL_17058e204e2a4a69895cef5df45d0aa7",
              "IPY_MODEL_a92aac2e39ce4dc79e0681da3e547915"
            ],
            "layout": "IPY_MODEL_e4a149f7abff4117bb2c092a19c91050"
          }
        },
        "074cbb1b452b4b4ca8cf9866d842756e": {
          "model_module": "@jupyter-widgets/controls",
          "model_name": "HTMLModel",
          "model_module_version": "1.5.0",
          "state": {
            "_dom_classes": [],
            "_model_module": "@jupyter-widgets/controls",
            "_model_module_version": "1.5.0",
            "_model_name": "HTMLModel",
            "_view_count": null,
            "_view_module": "@jupyter-widgets/controls",
            "_view_module_version": "1.5.0",
            "_view_name": "HTMLView",
            "description": "",
            "description_tooltip": null,
            "layout": "IPY_MODEL_3daae50d3759489796961acd2fd2aa35",
            "placeholder": "​",
            "style": "IPY_MODEL_97716629c8254a35957a53b628162c11",
            "value": "Generating train split: "
          }
        },
        "17058e204e2a4a69895cef5df45d0aa7": {
          "model_module": "@jupyter-widgets/controls",
          "model_name": "FloatProgressModel",
          "model_module_version": "1.5.0",
          "state": {
            "_dom_classes": [],
            "_model_module": "@jupyter-widgets/controls",
            "_model_module_version": "1.5.0",
            "_model_name": "FloatProgressModel",
            "_view_count": null,
            "_view_module": "@jupyter-widgets/controls",
            "_view_module_version": "1.5.0",
            "_view_name": "ProgressView",
            "bar_style": "success",
            "description": "",
            "description_tooltip": null,
            "layout": "IPY_MODEL_19e5524273d64fd8a38ad455f809fb04",
            "max": 1,
            "min": 0,
            "orientation": "horizontal",
            "style": "IPY_MODEL_ca66a7139492446cacabc4344d14faef",
            "value": 1
          }
        },
        "a92aac2e39ce4dc79e0681da3e547915": {
          "model_module": "@jupyter-widgets/controls",
          "model_name": "HTMLModel",
          "model_module_version": "1.5.0",
          "state": {
            "_dom_classes": [],
            "_model_module": "@jupyter-widgets/controls",
            "_model_module_version": "1.5.0",
            "_model_name": "HTMLModel",
            "_view_count": null,
            "_view_module": "@jupyter-widgets/controls",
            "_view_module_version": "1.5.0",
            "_view_name": "HTMLView",
            "description": "",
            "description_tooltip": null,
            "layout": "IPY_MODEL_b7c243cc7b3847668498042470ca72c1",
            "placeholder": "​",
            "style": "IPY_MODEL_d98c2d288f79421d9804598ce4fe2405",
            "value": " 175/0 [00:00&lt;00:00,  1.38 examples/s]"
          }
        },
        "e4a149f7abff4117bb2c092a19c91050": {
          "model_module": "@jupyter-widgets/base",
          "model_name": "LayoutModel",
          "model_module_version": "1.2.0",
          "state": {
            "_model_module": "@jupyter-widgets/base",
            "_model_module_version": "1.2.0",
            "_model_name": "LayoutModel",
            "_view_count": null,
            "_view_module": "@jupyter-widgets/base",
            "_view_module_version": "1.2.0",
            "_view_name": "LayoutView",
            "align_content": null,
            "align_items": null,
            "align_self": null,
            "border": null,
            "bottom": null,
            "display": null,
            "flex": null,
            "flex_flow": null,
            "grid_area": null,
            "grid_auto_columns": null,
            "grid_auto_flow": null,
            "grid_auto_rows": null,
            "grid_column": null,
            "grid_gap": null,
            "grid_row": null,
            "grid_template_areas": null,
            "grid_template_columns": null,
            "grid_template_rows": null,
            "height": null,
            "justify_content": null,
            "justify_items": null,
            "left": null,
            "margin": null,
            "max_height": null,
            "max_width": null,
            "min_height": null,
            "min_width": null,
            "object_fit": null,
            "object_position": null,
            "order": null,
            "overflow": null,
            "overflow_x": null,
            "overflow_y": null,
            "padding": null,
            "right": null,
            "top": null,
            "visibility": null,
            "width": null
          }
        },
        "3daae50d3759489796961acd2fd2aa35": {
          "model_module": "@jupyter-widgets/base",
          "model_name": "LayoutModel",
          "model_module_version": "1.2.0",
          "state": {
            "_model_module": "@jupyter-widgets/base",
            "_model_module_version": "1.2.0",
            "_model_name": "LayoutModel",
            "_view_count": null,
            "_view_module": "@jupyter-widgets/base",
            "_view_module_version": "1.2.0",
            "_view_name": "LayoutView",
            "align_content": null,
            "align_items": null,
            "align_self": null,
            "border": null,
            "bottom": null,
            "display": null,
            "flex": null,
            "flex_flow": null,
            "grid_area": null,
            "grid_auto_columns": null,
            "grid_auto_flow": null,
            "grid_auto_rows": null,
            "grid_column": null,
            "grid_gap": null,
            "grid_row": null,
            "grid_template_areas": null,
            "grid_template_columns": null,
            "grid_template_rows": null,
            "height": null,
            "justify_content": null,
            "justify_items": null,
            "left": null,
            "margin": null,
            "max_height": null,
            "max_width": null,
            "min_height": null,
            "min_width": null,
            "object_fit": null,
            "object_position": null,
            "order": null,
            "overflow": null,
            "overflow_x": null,
            "overflow_y": null,
            "padding": null,
            "right": null,
            "top": null,
            "visibility": null,
            "width": null
          }
        },
        "97716629c8254a35957a53b628162c11": {
          "model_module": "@jupyter-widgets/controls",
          "model_name": "DescriptionStyleModel",
          "model_module_version": "1.5.0",
          "state": {
            "_model_module": "@jupyter-widgets/controls",
            "_model_module_version": "1.5.0",
            "_model_name": "DescriptionStyleModel",
            "_view_count": null,
            "_view_module": "@jupyter-widgets/base",
            "_view_module_version": "1.2.0",
            "_view_name": "StyleView",
            "description_width": ""
          }
        },
        "19e5524273d64fd8a38ad455f809fb04": {
          "model_module": "@jupyter-widgets/base",
          "model_name": "LayoutModel",
          "model_module_version": "1.2.0",
          "state": {
            "_model_module": "@jupyter-widgets/base",
            "_model_module_version": "1.2.0",
            "_model_name": "LayoutModel",
            "_view_count": null,
            "_view_module": "@jupyter-widgets/base",
            "_view_module_version": "1.2.0",
            "_view_name": "LayoutView",
            "align_content": null,
            "align_items": null,
            "align_self": null,
            "border": null,
            "bottom": null,
            "display": null,
            "flex": null,
            "flex_flow": null,
            "grid_area": null,
            "grid_auto_columns": null,
            "grid_auto_flow": null,
            "grid_auto_rows": null,
            "grid_column": null,
            "grid_gap": null,
            "grid_row": null,
            "grid_template_areas": null,
            "grid_template_columns": null,
            "grid_template_rows": null,
            "height": null,
            "justify_content": null,
            "justify_items": null,
            "left": null,
            "margin": null,
            "max_height": null,
            "max_width": null,
            "min_height": null,
            "min_width": null,
            "object_fit": null,
            "object_position": null,
            "order": null,
            "overflow": null,
            "overflow_x": null,
            "overflow_y": null,
            "padding": null,
            "right": null,
            "top": null,
            "visibility": null,
            "width": "20px"
          }
        },
        "ca66a7139492446cacabc4344d14faef": {
          "model_module": "@jupyter-widgets/controls",
          "model_name": "ProgressStyleModel",
          "model_module_version": "1.5.0",
          "state": {
            "_model_module": "@jupyter-widgets/controls",
            "_model_module_version": "1.5.0",
            "_model_name": "ProgressStyleModel",
            "_view_count": null,
            "_view_module": "@jupyter-widgets/base",
            "_view_module_version": "1.2.0",
            "_view_name": "StyleView",
            "bar_color": null,
            "description_width": ""
          }
        },
        "b7c243cc7b3847668498042470ca72c1": {
          "model_module": "@jupyter-widgets/base",
          "model_name": "LayoutModel",
          "model_module_version": "1.2.0",
          "state": {
            "_model_module": "@jupyter-widgets/base",
            "_model_module_version": "1.2.0",
            "_model_name": "LayoutModel",
            "_view_count": null,
            "_view_module": "@jupyter-widgets/base",
            "_view_module_version": "1.2.0",
            "_view_name": "LayoutView",
            "align_content": null,
            "align_items": null,
            "align_self": null,
            "border": null,
            "bottom": null,
            "display": null,
            "flex": null,
            "flex_flow": null,
            "grid_area": null,
            "grid_auto_columns": null,
            "grid_auto_flow": null,
            "grid_auto_rows": null,
            "grid_column": null,
            "grid_gap": null,
            "grid_row": null,
            "grid_template_areas": null,
            "grid_template_columns": null,
            "grid_template_rows": null,
            "height": null,
            "justify_content": null,
            "justify_items": null,
            "left": null,
            "margin": null,
            "max_height": null,
            "max_width": null,
            "min_height": null,
            "min_width": null,
            "object_fit": null,
            "object_position": null,
            "order": null,
            "overflow": null,
            "overflow_x": null,
            "overflow_y": null,
            "padding": null,
            "right": null,
            "top": null,
            "visibility": null,
            "width": null
          }
        },
        "d98c2d288f79421d9804598ce4fe2405": {
          "model_module": "@jupyter-widgets/controls",
          "model_name": "DescriptionStyleModel",
          "model_module_version": "1.5.0",
          "state": {
            "_model_module": "@jupyter-widgets/controls",
            "_model_module_version": "1.5.0",
            "_model_name": "DescriptionStyleModel",
            "_view_count": null,
            "_view_module": "@jupyter-widgets/base",
            "_view_module_version": "1.2.0",
            "_view_name": "StyleView",
            "description_width": ""
          }
        },
        "70a7c28a1320422994036c75b02fe08e": {
          "model_module": "@jupyter-widgets/controls",
          "model_name": "HBoxModel",
          "model_module_version": "1.5.0",
          "state": {
            "_dom_classes": [],
            "_model_module": "@jupyter-widgets/controls",
            "_model_module_version": "1.5.0",
            "_model_name": "HBoxModel",
            "_view_count": null,
            "_view_module": "@jupyter-widgets/controls",
            "_view_module_version": "1.5.0",
            "_view_name": "HBoxView",
            "box_style": "",
            "children": [
              "IPY_MODEL_560c18d29c624c44a5508f1b9dee099e",
              "IPY_MODEL_1ffc5f1f49374232bf1789feede1ca61",
              "IPY_MODEL_306a85b1f7a24b5c856c71fd7464e534"
            ],
            "layout": "IPY_MODEL_78665a010c884511aeae528c1c855817"
          }
        },
        "560c18d29c624c44a5508f1b9dee099e": {
          "model_module": "@jupyter-widgets/controls",
          "model_name": "HTMLModel",
          "model_module_version": "1.5.0",
          "state": {
            "_dom_classes": [],
            "_model_module": "@jupyter-widgets/controls",
            "_model_module_version": "1.5.0",
            "_model_name": "HTMLModel",
            "_view_count": null,
            "_view_module": "@jupyter-widgets/controls",
            "_view_module_version": "1.5.0",
            "_view_name": "HTMLView",
            "description": "",
            "description_tooltip": null,
            "layout": "IPY_MODEL_1753aa8bb10f4be9977886bf0988b7ce",
            "placeholder": "​",
            "style": "IPY_MODEL_278addef10cb462faa907309ebc9f5a3",
            "value": "Loading checkpoint shards:   0%"
          }
        },
        "1ffc5f1f49374232bf1789feede1ca61": {
          "model_module": "@jupyter-widgets/controls",
          "model_name": "FloatProgressModel",
          "model_module_version": "1.5.0",
          "state": {
            "_dom_classes": [],
            "_model_module": "@jupyter-widgets/controls",
            "_model_module_version": "1.5.0",
            "_model_name": "FloatProgressModel",
            "_view_count": null,
            "_view_module": "@jupyter-widgets/controls",
            "_view_module_version": "1.5.0",
            "_view_name": "ProgressView",
            "bar_style": "",
            "description": "",
            "description_tooltip": null,
            "layout": "IPY_MODEL_08fe2119a7364919bd9cceea7c643d44",
            "max": 2,
            "min": 0,
            "orientation": "horizontal",
            "style": "IPY_MODEL_f6f584492aa34d55b39582e6ba065c9a",
            "value": 0
          }
        },
        "306a85b1f7a24b5c856c71fd7464e534": {
          "model_module": "@jupyter-widgets/controls",
          "model_name": "HTMLModel",
          "model_module_version": "1.5.0",
          "state": {
            "_dom_classes": [],
            "_model_module": "@jupyter-widgets/controls",
            "_model_module_version": "1.5.0",
            "_model_name": "HTMLModel",
            "_view_count": null,
            "_view_module": "@jupyter-widgets/controls",
            "_view_module_version": "1.5.0",
            "_view_name": "HTMLView",
            "description": "",
            "description_tooltip": null,
            "layout": "IPY_MODEL_f9c63ca4d0004da69c5d0123420ff4d6",
            "placeholder": "​",
            "style": "IPY_MODEL_05c58cd5b8ab4f69ba71f81d13487458",
            "value": " 0/2 [00:00&lt;?, ?it/s]"
          }
        },
        "78665a010c884511aeae528c1c855817": {
          "model_module": "@jupyter-widgets/base",
          "model_name": "LayoutModel",
          "model_module_version": "1.2.0",
          "state": {
            "_model_module": "@jupyter-widgets/base",
            "_model_module_version": "1.2.0",
            "_model_name": "LayoutModel",
            "_view_count": null,
            "_view_module": "@jupyter-widgets/base",
            "_view_module_version": "1.2.0",
            "_view_name": "LayoutView",
            "align_content": null,
            "align_items": null,
            "align_self": null,
            "border": null,
            "bottom": null,
            "display": null,
            "flex": null,
            "flex_flow": null,
            "grid_area": null,
            "grid_auto_columns": null,
            "grid_auto_flow": null,
            "grid_auto_rows": null,
            "grid_column": null,
            "grid_gap": null,
            "grid_row": null,
            "grid_template_areas": null,
            "grid_template_columns": null,
            "grid_template_rows": null,
            "height": null,
            "justify_content": null,
            "justify_items": null,
            "left": null,
            "margin": null,
            "max_height": null,
            "max_width": null,
            "min_height": null,
            "min_width": null,
            "object_fit": null,
            "object_position": null,
            "order": null,
            "overflow": null,
            "overflow_x": null,
            "overflow_y": null,
            "padding": null,
            "right": null,
            "top": null,
            "visibility": null,
            "width": null
          }
        },
        "1753aa8bb10f4be9977886bf0988b7ce": {
          "model_module": "@jupyter-widgets/base",
          "model_name": "LayoutModel",
          "model_module_version": "1.2.0",
          "state": {
            "_model_module": "@jupyter-widgets/base",
            "_model_module_version": "1.2.0",
            "_model_name": "LayoutModel",
            "_view_count": null,
            "_view_module": "@jupyter-widgets/base",
            "_view_module_version": "1.2.0",
            "_view_name": "LayoutView",
            "align_content": null,
            "align_items": null,
            "align_self": null,
            "border": null,
            "bottom": null,
            "display": null,
            "flex": null,
            "flex_flow": null,
            "grid_area": null,
            "grid_auto_columns": null,
            "grid_auto_flow": null,
            "grid_auto_rows": null,
            "grid_column": null,
            "grid_gap": null,
            "grid_row": null,
            "grid_template_areas": null,
            "grid_template_columns": null,
            "grid_template_rows": null,
            "height": null,
            "justify_content": null,
            "justify_items": null,
            "left": null,
            "margin": null,
            "max_height": null,
            "max_width": null,
            "min_height": null,
            "min_width": null,
            "object_fit": null,
            "object_position": null,
            "order": null,
            "overflow": null,
            "overflow_x": null,
            "overflow_y": null,
            "padding": null,
            "right": null,
            "top": null,
            "visibility": null,
            "width": null
          }
        },
        "278addef10cb462faa907309ebc9f5a3": {
          "model_module": "@jupyter-widgets/controls",
          "model_name": "DescriptionStyleModel",
          "model_module_version": "1.5.0",
          "state": {
            "_model_module": "@jupyter-widgets/controls",
            "_model_module_version": "1.5.0",
            "_model_name": "DescriptionStyleModel",
            "_view_count": null,
            "_view_module": "@jupyter-widgets/base",
            "_view_module_version": "1.2.0",
            "_view_name": "StyleView",
            "description_width": ""
          }
        },
        "08fe2119a7364919bd9cceea7c643d44": {
          "model_module": "@jupyter-widgets/base",
          "model_name": "LayoutModel",
          "model_module_version": "1.2.0",
          "state": {
            "_model_module": "@jupyter-widgets/base",
            "_model_module_version": "1.2.0",
            "_model_name": "LayoutModel",
            "_view_count": null,
            "_view_module": "@jupyter-widgets/base",
            "_view_module_version": "1.2.0",
            "_view_name": "LayoutView",
            "align_content": null,
            "align_items": null,
            "align_self": null,
            "border": null,
            "bottom": null,
            "display": null,
            "flex": null,
            "flex_flow": null,
            "grid_area": null,
            "grid_auto_columns": null,
            "grid_auto_flow": null,
            "grid_auto_rows": null,
            "grid_column": null,
            "grid_gap": null,
            "grid_row": null,
            "grid_template_areas": null,
            "grid_template_columns": null,
            "grid_template_rows": null,
            "height": null,
            "justify_content": null,
            "justify_items": null,
            "left": null,
            "margin": null,
            "max_height": null,
            "max_width": null,
            "min_height": null,
            "min_width": null,
            "object_fit": null,
            "object_position": null,
            "order": null,
            "overflow": null,
            "overflow_x": null,
            "overflow_y": null,
            "padding": null,
            "right": null,
            "top": null,
            "visibility": null,
            "width": null
          }
        },
        "f6f584492aa34d55b39582e6ba065c9a": {
          "model_module": "@jupyter-widgets/controls",
          "model_name": "ProgressStyleModel",
          "model_module_version": "1.5.0",
          "state": {
            "_model_module": "@jupyter-widgets/controls",
            "_model_module_version": "1.5.0",
            "_model_name": "ProgressStyleModel",
            "_view_count": null,
            "_view_module": "@jupyter-widgets/base",
            "_view_module_version": "1.2.0",
            "_view_name": "StyleView",
            "bar_color": null,
            "description_width": ""
          }
        },
        "f9c63ca4d0004da69c5d0123420ff4d6": {
          "model_module": "@jupyter-widgets/base",
          "model_name": "LayoutModel",
          "model_module_version": "1.2.0",
          "state": {
            "_model_module": "@jupyter-widgets/base",
            "_model_module_version": "1.2.0",
            "_model_name": "LayoutModel",
            "_view_count": null,
            "_view_module": "@jupyter-widgets/base",
            "_view_module_version": "1.2.0",
            "_view_name": "LayoutView",
            "align_content": null,
            "align_items": null,
            "align_self": null,
            "border": null,
            "bottom": null,
            "display": null,
            "flex": null,
            "flex_flow": null,
            "grid_area": null,
            "grid_auto_columns": null,
            "grid_auto_flow": null,
            "grid_auto_rows": null,
            "grid_column": null,
            "grid_gap": null,
            "grid_row": null,
            "grid_template_areas": null,
            "grid_template_columns": null,
            "grid_template_rows": null,
            "height": null,
            "justify_content": null,
            "justify_items": null,
            "left": null,
            "margin": null,
            "max_height": null,
            "max_width": null,
            "min_height": null,
            "min_width": null,
            "object_fit": null,
            "object_position": null,
            "order": null,
            "overflow": null,
            "overflow_x": null,
            "overflow_y": null,
            "padding": null,
            "right": null,
            "top": null,
            "visibility": null,
            "width": null
          }
        },
        "05c58cd5b8ab4f69ba71f81d13487458": {
          "model_module": "@jupyter-widgets/controls",
          "model_name": "DescriptionStyleModel",
          "model_module_version": "1.5.0",
          "state": {
            "_model_module": "@jupyter-widgets/controls",
            "_model_module_version": "1.5.0",
            "_model_name": "DescriptionStyleModel",
            "_view_count": null,
            "_view_module": "@jupyter-widgets/base",
            "_view_module_version": "1.2.0",
            "_view_name": "StyleView",
            "description_width": ""
          }
        }
      }
    }
  },
  "cells": [
    {
      "cell_type": "markdown",
      "metadata": {
        "id": "view-in-github",
        "colab_type": "text"
      },
      "source": [
        "<a href=\"https://colab.research.google.com/github/ffreemt/app1/blob/master/succ_mzwc_SFTTrainer_Fine_Tuning_Llama_2_merge_OOM_medical_apply_chat_template_Dekivadiya.ipynb\" target=\"_parent\"><img src=\"https://colab.research.google.com/assets/colab-badge.svg\" alt=\"Open In Colab\"/></a>"
      ]
    },
    {
      "cell_type": "markdown",
      "source": [
        "# Fine-Tuning Llama 2: Your Path to Medical Text Perfection\n",
        "https://medium.com/@kevaldekivadiya2415/fine-tuning-llama-2-your-path-to-chemistry-text-perfection-aa4c54ff5790\n",
        "- https://github.com/kevaldekivadiya2415/LLMs-Fine-Tuning"
      ],
      "metadata": {
        "id": "OVoAKCfRoi0t"
      }
    },
    {
      "cell_type": "code",
      "source": [
        "from IPython.display import clear_output"
      ],
      "metadata": {
        "id": "xN8JbuD3pXGm"
      },
      "execution_count": null,
      "outputs": []
    },
    {
      "cell_type": "code",
      "source": [
        "import rich\n",
        "import torch\n",
        "if not torch.cuda.is_available():\n",
        "  rich.print(\"[red bold]No GPU. Turn on GPU and try again[/red bold]\")\n",
        "  raise SystemExit(\"Turn on GPU and try again\")\n",
        "else:\n",
        "  rich.print(\"[green bold]GPU present, good to go[/green bold]\")"
      ],
      "metadata": {
        "colab": {
          "base_uri": "https://localhost:8080/",
          "height": 33
        },
        "id": "XLbmHAxys6_B",
        "outputId": "6b05f7c6-9ec4-4a79-b2df-e827f5bef654"
      },
      "execution_count": null,
      "outputs": [
        {
          "output_type": "display_data",
          "data": {
            "text/plain": [
              "\u001b[1;32mGPU present, good to go\u001b[0m\n"
            ],
            "text/html": [
              "<pre style=\"white-space:pre;overflow-x:auto;line-height:normal;font-family:Menlo,'DejaVu Sans Mono',consolas,'Courier New',monospace\"><span style=\"color: #008000; text-decoration-color: #008000; font-weight: bold\">GPU present, good to go</span>\n",
              "</pre>\n"
            ]
          },
          "metadata": {}
        }
      ]
    },
    {
      "cell_type": "code",
      "execution_count": null,
      "metadata": {
        "colab": {
          "base_uri": "https://localhost:8080/"
        },
        "id": "cQIZm0QRof1c",
        "outputId": "3ac4e7bc-b17a-4875-ab64-5eb95cbe14f7"
      },
      "outputs": [
        {
          "output_type": "stream",
          "name": "stdout",
          "text": [
            "Sat Jan  6 03:49:31 AM UTC 2024\n"
          ]
        }
      ],
      "source": [
        "!pip install -q transformers datasets peft accelerate bitsandbytes trl safetensors torch --no-cache\n",
        "clear_output()\n",
        "!date"
      ]
    },
    {
      "cell_type": "markdown",
      "source": [
        "## load_dataset: *medalpaca/medical_meadow_medqa*"
      ],
      "metadata": {
        "id": "1Auq4DDCqzg4"
      }
    },
    {
      "cell_type": "code",
      "source": [
        "from datasets import load_dataset\n",
        "from random import randrange\n",
        "\n",
        "# Load dataset from the hub\n",
        "dataset = load_dataset(\"medalpaca/medical_meadow_medqa\", split=\"train\")\n",
        "\n",
        "print(f\"Dataset Size: {len(dataset)}\")\n",
        "print(dataset[randrange(len(dataset))])\n",
        "# Dataset Size: 10178"
      ],
      "metadata": {
        "colab": {
          "base_uri": "https://localhost:8080/"
        },
        "id": "6DQ56foPpQG6",
        "outputId": "c611ac2e-e642-45b7-9386-a6563de25ffe"
      },
      "execution_count": null,
      "outputs": [
        {
          "output_type": "stream",
          "name": "stdout",
          "text": [
            "Dataset Size: 10178\n",
            "{'instruction': 'Please answer with one of the option in the bracket', 'input': \"Q:An 81-year-old man is brought to the physician by his daughter after he was found wandering on the street. For the last 3 months, he often has a blank stare for several minutes. He also claims to have seen strangers in the house on several occasions who were not present. He has hypertension and hyperlipidemia, and was diagnosed with Parkinson disease 8 months ago. His current medications include carbidopa-levodopa, hydrochlorothiazide, and atorvastatin. His blood pressure is 150/85 mm Hg. He has short-term memory deficits and appears confused and disheveled. Examination shows bilateral muscle rigidity and resting tremor in his upper extremities. He has a slow gait with short steps. Microscopic examination of the cortex of a patient with the same condition is shown. Which of the following is the most likely diagnosis?? \\n{'A': 'Lewy body dementia', 'B': 'Creutzfeldt-Jakob disease', 'C': 'Vascular dementia', 'D': 'Normal pressure hydrocephalus', 'E': 'Frontotemporal dementia'},\", 'output': 'A: Lewy body dementia'}\n"
          ]
        }
      ]
    },
    {
      "cell_type": "markdown",
      "source": [
        "# format_prompt\n"
      ],
      "metadata": {
        "id": "jcRgQbWDq3GE"
      }
    },
    {
      "cell_type": "code",
      "source": [
        "!pip install -q python-box\n",
        "\n",
        "from box import Box"
      ],
      "metadata": {
        "id": "OSKNRfBiudOs"
      },
      "execution_count": null,
      "outputs": []
    },
    {
      "cell_type": "code",
      "source": [
        "_ = \"\"\"\n",
        "prompt_tempalte:\n",
        "  Below is an instruction that describes a task, paired with an input that provides further context. Write a response that appropriately completes the request.\n",
        "\n",
        "  ### Instruction:\n",
        "  {sample[\"instruction\"]}\n",
        "\n",
        "  ### Input:\n",
        "  {sample[\"input\"]}\n",
        "\n",
        "  ### Response:\n",
        "  {sample[\"output\"]}\n",
        "\"\"\"\n",
        "\n",
        "# _\n",
        "# Box.from_yaml(_)"
      ],
      "metadata": {
        "id": "A8uJH9j3uFR1"
      },
      "execution_count": null,
      "outputs": []
    },
    {
      "cell_type": "code",
      "source": [
        "def format_prompt(sample):\n",
        "    return f\"\"\"\n",
        "Below is an instruction that describes a task, paired with an input that provides further context. Write a response that appropriately completes the request.\n",
        "\n",
        "### Instruction:\n",
        "{sample[\"instruction\"]}\n",
        "\n",
        "### Input:\n",
        "{sample[\"input\"]}\n",
        "\n",
        "### Response:\n",
        "{sample[\"output\"]}\n",
        "\"\"\""
      ],
      "metadata": {
        "id": "ZvK4LmGeq5PD"
      },
      "execution_count": null,
      "outputs": []
    },
    {
      "cell_type": "code",
      "source": [
        "from random import randrange\n",
        "\n",
        "_ = randrange(len(dataset))\n",
        "\n",
        "print(dataset[_], format_prompt(dataset[_]))"
      ],
      "metadata": {
        "colab": {
          "base_uri": "https://localhost:8080/"
        },
        "id": "wtzNEXAqq_c_",
        "outputId": "d6750eac-a0d9-45b1-fb08-39b57a16d530"
      },
      "execution_count": null,
      "outputs": [
        {
          "output_type": "stream",
          "name": "stdout",
          "text": [
            "{'instruction': 'Please answer with one of the option in the bracket', 'input': \"Q:A 25-year-old male wrestler presents to his primary care physician for knee pain. He was in a wrestling match yesterday when he was abruptly taken down. Since then, he has had pain in his left knee. The patient states that at times it feels as if his knee locks as he moves it. The patient has a past medical history of anabolic steroid abuse; however, he claims to no longer be using them. His current medications include NSAIDs as needed for minor injuries from participating in sports. On physical exam, you note medial joint tenderness of the patient’s left knee, as well as some erythema and bruising. The patient has an antalgic gait as you observe him walking. Passive range of motion reveals a subtle clicking of the joint. There is absent anterior displacement of the tibia relative to the femur on an anterior drawer test. The rest of the physical exam, including examination of the contralateral knee is within normal limits. Which of the following structures is most likely damaged in this patient?? \\n{'A': 'Medial meniscus', 'B': 'Lateral meniscus', 'C': 'Medial collateral ligament', 'D': 'Lateral collateral ligament', 'E': 'Anterior cruciate ligament'},\", 'output': 'A: Medial meniscus'} \n",
            "Below is an instruction that describes a task, paired with an input that provides further context. Write a response that appropriately completes the request.\n",
            "\n",
            "### Instruction:\n",
            "Please answer with one of the option in the bracket\n",
            "\n",
            "### Input:\n",
            "Q:A 25-year-old male wrestler presents to his primary care physician for knee pain. He was in a wrestling match yesterday when he was abruptly taken down. Since then, he has had pain in his left knee. The patient states that at times it feels as if his knee locks as he moves it. The patient has a past medical history of anabolic steroid abuse; however, he claims to no longer be using them. His current medications include NSAIDs as needed for minor injuries from participating in sports. On physical exam, you note medial joint tenderness of the patient’s left knee, as well as some erythema and bruising. The patient has an antalgic gait as you observe him walking. Passive range of motion reveals a subtle clicking of the joint. There is absent anterior displacement of the tibia relative to the femur on an anterior drawer test. The rest of the physical exam, including examination of the contralateral knee is within normal limits. Which of the following structures is most likely damaged in this patient?? \n",
            "{'A': 'Medial meniscus', 'B': 'Lateral meniscus', 'C': 'Medial collateral ligament', 'D': 'Lateral collateral ligament', 'E': 'Anterior cruciate ligament'},\n",
            "\n",
            "### Response:\n",
            "A: Medial meniscus\n",
            "\n"
          ]
        }
      ]
    },
    {
      "cell_type": "markdown",
      "source": [
        "# Fine-tune Llama 2 using trl and the SFTTrainer"
      ],
      "metadata": {
        "id": "wB8elaXQ3WDx"
      }
    },
    {
      "cell_type": "code",
      "source": [
        "import torch\n",
        "from transformers import AutoTokenizer, AutoModelForCausalLM, BitsAndBytesConfig\n",
        "\n",
        "# Hugging Face model name\n",
        "model_name = \"meta-llama/Llama-2-7b-chat-hf\"\n",
        "use_flash_attention = False\n",
        "\n",
        "# BitsAndBytesConfig int-4 config\n",
        "bnb_config = BitsAndBytesConfig(\n",
        "    load_in_4bit=True,\n",
        "    bnb_4bit_use_double_quant=True,\n",
        "    bnb_4bit_quant_type=\"nf4\",\n",
        "    bnb_4bit_compute_dtype=torch.bfloat16,\n",
        ")\n",
        "\n",
        "# Load model\n",
        "model = AutoModelForCausalLM.from_pretrained(\n",
        "    model_name,\n",
        "    quantization_config=bnb_config,\n",
        "    use_cache=False,\n",
        "    use_flash_attention_2=use_flash_attention,\n",
        "    device_map=\"auto\",\n",
        "    torch_dtype=torch.float16\n",
        ")\n",
        "\n",
        "model.config.pretraining_tp = 1\n",
        "\n",
        "# Load tokenizer\n",
        "tokenizer = AutoTokenizer.from_pretrained(model_name)\n",
        "tokenizer.pad_token = tokenizer.eos_token\n",
        "tokenizer.padding_side = \"right\""
      ],
      "metadata": {
        "colab": {
          "base_uri": "https://localhost:8080/",
          "height": 77,
          "referenced_widgets": [
            "ddaeb673d3b94f78b51334ff31bb0104",
            "10d5adb197d84c4d9f7df360b55fd5e8",
            "c64802c481e34d4cbca928ce08a8e652",
            "e5277b88eeb14e5fadeb7b4f93cb6f3e",
            "50f3030c986c406caaac4a4b16c8bc69",
            "65be601f02784af1a9ff0ed2d9bb2639",
            "c9a22c015a48482eb6a2156fb227888f",
            "bfc4763e665b4d669604783e72e3f6a6",
            "c6d51f64504347edb87573a4784ee9cf",
            "466c3692d1de4f4ab598623a68a72bb1",
            "84bf94ec26f34cb6bff9a71dc866d194"
          ]
        },
        "id": "twBglgjn3fIY",
        "outputId": "b2b9a39a-0741-498f-85c2-970253710ee8"
      },
      "execution_count": null,
      "outputs": [
        {
          "output_type": "display_data",
          "data": {
            "text/plain": [
              "Loading checkpoint shards:   0%|          | 0/2 [00:00<?, ?it/s]"
            ],
            "application/vnd.jupyter.widget-view+json": {
              "version_major": 2,
              "version_minor": 0,
              "model_id": "ddaeb673d3b94f78b51334ff31bb0104"
            }
          },
          "metadata": {}
        }
      ]
    },
    {
      "cell_type": "markdown",
      "source": [
        "# LoraConfig"
      ],
      "metadata": {
        "id": "6FCwVupV3vjy"
      }
    },
    {
      "cell_type": "code",
      "source": [
        "from peft import LoraConfig, prepare_model_for_kbit_training, get_peft_model\n",
        "\n",
        "# LoRA config based on QLoRA paper\n",
        "peft_config = LoraConfig(\n",
        "    lora_alpha=32,\n",
        "    lora_dropout=0.1,\n",
        "    r=16,\n",
        "    bias=\"none\",\n",
        "    task_type=\"CAUSAL_LM\",\n",
        ")\n",
        "# Prepare model for training\n",
        "model = prepare_model_for_kbit_training(model)\n",
        "model = get_peft_model(model, peft_config)"
      ],
      "metadata": {
        "id": "aliH5XOI3wx6"
      },
      "execution_count": null,
      "outputs": []
    },
    {
      "cell_type": "markdown",
      "source": [
        "## TrainingArguments"
      ],
      "metadata": {
        "id": "xkO-nbGE3-Ww"
      }
    },
    {
      "cell_type": "code",
      "source": [
        "from transformers import TrainingArguments\n",
        "\n",
        "args = TrainingArguments(\n",
        "    output_dir=\"finetuned-llama-7b-chat-hf-med\",\n",
        "    num_train_epochs=3,\n",
        "    per_device_train_batch_size=4,\n",
        "    gradient_accumulation_steps=2,\n",
        "    gradient_checkpointing=True,\n",
        "    optim=\"paged_adamw_32bit\",\n",
        "    logging_steps=10,\n",
        "    save_strategy=\"epoch\",\n",
        "    learning_rate=2e-4,\n",
        "    fp16=True,\n",
        "    max_grad_norm=0.3,\n",
        "    warmup_ratio=0.03,\n",
        "    lr_scheduler_type=\"constant\",\n",
        "    disable_tqdm=False,\n",
        ")"
      ],
      "metadata": {
        "id": "T_d-BT3w3_qk"
      },
      "execution_count": null,
      "outputs": []
    },
    {
      "cell_type": "markdown",
      "source": [
        "# SFTTrainer"
      ],
      "metadata": {
        "id": "BC6MMYah4Nkw"
      }
    },
    {
      "cell_type": "code",
      "source": [
        "from trl import SFTTrainer\n",
        "\n",
        "max_seq_length = 1024 # max sequence length for model and packing of the dataset\n",
        "\n",
        "trainer = SFTTrainer(\n",
        "    model=model,\n",
        "    # train_dataset=dataset\n",
        "    train_dataset=dataset.select(range(len(dataset) // 20)),\n",
        "    peft_config=peft_config,\n",
        "    max_seq_length=max_seq_length,\n",
        "    tokenizer=tokenizer,\n",
        "    packing=True,\n",
        "    formatting_func=format_prompt,\n",
        "    args=args,\n",
        ")\n",
        "\n",
        "# full dataset eta: 11 hrs\n",
        "\n",
        "# int(len(dataset)/20), dataset.select(range(10))"
      ],
      "metadata": {
        "colab": {
          "base_uri": "https://localhost:8080/",
          "height": 49,
          "referenced_widgets": [
            "68dc1946985340338bdf167926af951d",
            "074cbb1b452b4b4ca8cf9866d842756e",
            "17058e204e2a4a69895cef5df45d0aa7",
            "a92aac2e39ce4dc79e0681da3e547915",
            "e4a149f7abff4117bb2c092a19c91050",
            "3daae50d3759489796961acd2fd2aa35",
            "97716629c8254a35957a53b628162c11",
            "19e5524273d64fd8a38ad455f809fb04",
            "ca66a7139492446cacabc4344d14faef",
            "b7c243cc7b3847668498042470ca72c1",
            "d98c2d288f79421d9804598ce4fe2405"
          ]
        },
        "id": "9R9XIRBQ4Oxw",
        "outputId": "47aa6729-12f2-433f-c0b5-1ca5564f9ee8"
      },
      "execution_count": null,
      "outputs": [
        {
          "output_type": "display_data",
          "data": {
            "text/plain": [
              "Generating train split: 0 examples [00:00, ? examples/s]"
            ],
            "application/vnd.jupyter.widget-view+json": {
              "version_major": 2,
              "version_minor": 0,
              "model_id": "68dc1946985340338bdf167926af951d"
            }
          },
          "metadata": {}
        }
      ]
    },
    {
      "cell_type": "code",
      "source": [
        " dataset.select(range(len(dataset) // 20))"
      ],
      "metadata": {
        "colab": {
          "base_uri": "https://localhost:8080/"
        },
        "id": "upME6PKOCl02",
        "outputId": "4891812e-2c7c-43e3-aff6-472700183888"
      },
      "execution_count": null,
      "outputs": [
        {
          "output_type": "execute_result",
          "data": {
            "text/plain": [
              "Dataset({\n",
              "    features: ['instruction', 'input', 'output'],\n",
              "    num_rows: 508\n",
              "})"
            ]
          },
          "metadata": {},
          "execution_count": 18
        }
      ]
    },
    {
      "cell_type": "code",
      "source": [
        "# len(dataset) 10178： eta 11 hrs\n",
        "# int(len(dataset)/20) 508：31 min"
      ],
      "metadata": {
        "colab": {
          "base_uri": "https://localhost:8080/"
        },
        "id": "8XHi6W6aCRW2",
        "outputId": "7be8c771-3166-4e18-b678-a7cc5e2a3f8a"
      },
      "execution_count": null,
      "outputs": [
        {
          "output_type": "execute_result",
          "data": {
            "text/plain": [
              "10178"
            ]
          },
          "metadata": {},
          "execution_count": 15
        }
      ]
    },
    {
      "cell_type": "markdown",
      "source": [
        "## Start trainer: eta 11 hrs!"
      ],
      "metadata": {
        "id": "nZ8W5UFB4s1q"
      }
    },
    {
      "cell_type": "code",
      "source": [
        "# Train\n",
        "trainer.train()\n",
        "\n",
        "# full dataset eta: 11 hrs\n",
        "# loss 1.42...(7)...0.96\n",
        "\n",
        "# 508\n",
        "# loss：0.91 0.92 0.88 0.824300"
      ],
      "metadata": {
        "colab": {
          "base_uri": "https://localhost:8080/",
          "height": 427
        },
        "id": "6UDCn-KC4vmW",
        "outputId": "07b53c45-95f7-4894-87f1-a292cf1addfd"
      },
      "execution_count": null,
      "outputs": [
        {
          "output_type": "display_data",
          "data": {
            "text/plain": [
              "<IPython.core.display.HTML object>"
            ],
            "text/html": [
              "\n",
              "    <div>\n",
              "      \n",
              "      <progress value='66' max='66' style='width:300px; height:20px; vertical-align: middle;'></progress>\n",
              "      [66/66 32:36, Epoch 3/3]\n",
              "    </div>\n",
              "    <table border=\"1\" class=\"dataframe\">\n",
              "  <thead>\n",
              " <tr style=\"text-align: left;\">\n",
              "      <th>Step</th>\n",
              "      <th>Training Loss</th>\n",
              "    </tr>\n",
              "  </thead>\n",
              "  <tbody>\n",
              "    <tr>\n",
              "      <td>10</td>\n",
              "      <td>0.919100</td>\n",
              "    </tr>\n",
              "    <tr>\n",
              "      <td>20</td>\n",
              "      <td>0.927400</td>\n",
              "    </tr>\n",
              "    <tr>\n",
              "      <td>30</td>\n",
              "      <td>0.887300</td>\n",
              "    </tr>\n",
              "    <tr>\n",
              "      <td>40</td>\n",
              "      <td>0.859200</td>\n",
              "    </tr>\n",
              "    <tr>\n",
              "      <td>50</td>\n",
              "      <td>0.865100</td>\n",
              "    </tr>\n",
              "    <tr>\n",
              "      <td>60</td>\n",
              "      <td>0.824300</td>\n",
              "    </tr>\n",
              "  </tbody>\n",
              "</table><p>"
            ]
          },
          "metadata": {}
        },
        {
          "output_type": "stream",
          "name": "stderr",
          "text": [
            "/usr/local/lib/python3.10/dist-packages/torch/utils/checkpoint.py:429: UserWarning: torch.utils.checkpoint: please pass in use_reentrant=True or use_reentrant=False explicitly. The default value of use_reentrant will be updated to be False in the future. To maintain current behavior, pass use_reentrant=True. It is recommended that you use use_reentrant=False. Refer to docs for more details on the differences between the two variants.\n",
            "  warnings.warn(\n",
            "/usr/local/lib/python3.10/dist-packages/torch/utils/checkpoint.py:429: UserWarning: torch.utils.checkpoint: please pass in use_reentrant=True or use_reentrant=False explicitly. The default value of use_reentrant will be updated to be False in the future. To maintain current behavior, pass use_reentrant=True. It is recommended that you use use_reentrant=False. Refer to docs for more details on the differences between the two variants.\n",
            "  warnings.warn(\n"
          ]
        },
        {
          "output_type": "execute_result",
          "data": {
            "text/plain": [
              "TrainOutput(global_step=66, training_loss=0.87595196203752, metrics={'train_runtime': 1988.0042, 'train_samples_per_second': 0.264, 'train_steps_per_second': 0.033, 'total_flos': 2.13397058617344e+16, 'train_loss': 0.87595196203752, 'epoch': 3.0})"
            ]
          },
          "metadata": {},
          "execution_count": 20
        }
      ]
    },
    {
      "cell_type": "code",
      "source": [
        "!du -sh finetuned-llama-7b-chat-hf-med/checkpoint-66/*"
      ],
      "metadata": {
        "colab": {
          "base_uri": "https://localhost:8080/"
        },
        "id": "gvuFOAs5O0Pd",
        "outputId": "f0e98206-c9d8-442b-8d00-b91ebcd0b453"
      },
      "execution_count": null,
      "outputs": [
        {
          "output_type": "stream",
          "name": "stdout",
          "text": [
            "4.0K\tfinetuned-llama-7b-chat-hf-med/checkpoint-66/adapter_config.json\n",
            "33M\tfinetuned-llama-7b-chat-hf-med/checkpoint-66/adapter_model.safetensors\n",
            "65M\tfinetuned-llama-7b-chat-hf-med/checkpoint-66/optimizer.pt\n",
            "8.0K\tfinetuned-llama-7b-chat-hf-med/checkpoint-66/README.md\n",
            "16K\tfinetuned-llama-7b-chat-hf-med/checkpoint-66/rng_state.pth\n",
            "4.0K\tfinetuned-llama-7b-chat-hf-med/checkpoint-66/scheduler.pt\n",
            "4.0K\tfinetuned-llama-7b-chat-hf-med/checkpoint-66/special_tokens_map.json\n",
            "4.0K\tfinetuned-llama-7b-chat-hf-med/checkpoint-66/tokenizer_config.json\n",
            "1.8M\tfinetuned-llama-7b-chat-hf-med/checkpoint-66/tokenizer.json\n",
            "4.0K\tfinetuned-llama-7b-chat-hf-med/checkpoint-66/trainer_state.json\n",
            "8.0K\tfinetuned-llama-7b-chat-hf-med/checkpoint-66/training_args.bin\n"
          ]
        }
      ]
    },
    {
      "cell_type": "code",
      "source": [
        "# Save model\n",
        "trainer.save_model()\n"
      ],
      "metadata": {
        "id": "XOKJYavOB75E"
      },
      "execution_count": null,
      "outputs": []
    },
    {
      "cell_type": "code",
      "source": [
        "args.output_dir"
      ],
      "metadata": {
        "colab": {
          "base_uri": "https://localhost:8080/",
          "height": 36
        },
        "id": "9T6iSBrsPnZJ",
        "outputId": "72c2190f-17db-4cad-f389-1a207c43ea2b"
      },
      "execution_count": null,
      "outputs": [
        {
          "output_type": "execute_result",
          "data": {
            "text/plain": [
              "'finetuned-llama-7b-chat-hf-med'"
            ],
            "application/vnd.google.colaboratory.intrinsic+json": {
              "type": "string"
            }
          },
          "metadata": {},
          "execution_count": 29
        }
      ]
    },
    {
      "cell_type": "markdown",
      "source": [
        "## Model Testing and Inference"
      ],
      "metadata": {
        "id": "Ld0454DVRr8K"
      }
    },
    {
      "cell_type": "code",
      "source": [
        "import torch\n",
        "from peft import AutoPeftModelForCausalLM\n",
        "from transformers import AutoTokenizer\n",
        "\n",
        "# Load finetuned LLM model and tokenizer\n",
        "model = AutoPeftModelForCausalLM.from_pretrained(\n",
        "    args.output_dir,\n",
        "    low_cpu_mem_usage=True,\n",
        "    torch_dtype=torch.float16,\n",
        "    load_in_4bit=True,\n",
        ")\n",
        "tokenizer = AutoTokenizer.from_pretrained(args.output_dir)"
      ],
      "metadata": {
        "id": "rRd1FKorR3oO"
      },
      "execution_count": null,
      "outputs": []
    },
    {
      "cell_type": "code",
      "source": [
        "from datasets import load_dataset\n",
        "from random import randrange\n",
        "\n",
        "# Load dataset from the hub\n",
        "dataset = load_dataset(\"medalpaca/medical_meadow_medqa\", split=\"train\")\n",
        "sample = dataset[randrange(len(dataset))]\n",
        "\n",
        "prompt = f\"\"\"\n",
        "Below is an instruction that describes a task, paired with an input that provides further context. Write a response that appropriately completes the request.\n",
        "\n",
        "### Instruction:\n",
        "{sample[\"instruction\"]}\n",
        "\n",
        "### Input:\n",
        "{sample[\"input\"]}\n",
        "\n",
        "### Response:\n",
        "\"\"\"\n",
        "\n",
        "input_ids = tokenizer(prompt, return_tensors=\"pt\", truncation=True).input_ids.cuda()\n",
        "input_ids"
      ],
      "metadata": {
        "colab": {
          "base_uri": "https://localhost:8080/"
        },
        "id": "7Lpyp4DfSJaK",
        "outputId": "c34f61d0-6dc8-452a-82cc-7bb3d3874981"
      },
      "execution_count": null,
      "outputs": [
        {
          "output_type": "execute_result",
          "data": {
            "text/plain": [
              "tensor([[    1, 29871,    13, 21140,   340,   338,   385, 15278,   393, 16612,\n",
              "           263,  3414, 29892,  3300,  2859,   411,   385,  1881,   393,  8128,\n",
              "          4340,  3030, 29889, 14350,   263,  2933,   393,  7128,  2486,  1614,\n",
              "          2167,   278,  2009, 29889,    13,    13,  2277, 29937,  2799,  4080,\n",
              "         29901,    13, 12148,  1234,   411,   697,   310,   278,  2984,   297,\n",
              "           278,  4105,  3522,    13,    13,  2277, 29937, 10567, 29901,    13,\n",
              "         29984, 29901,  2744, 29871, 29896, 29896, 29899,  6360, 29899,  1025,\n",
              "          8023,   338,  6296,   304,   278, 11176, 14703, 14311,   491,   670,\n",
              "         11825,   411,   263, 29871, 29906, 29899,  3250,  4955,   310,  1238,\n",
              "           369, 29892,   286,  2883,   895, 29892,   322,  3234,   573,   274,\n",
              "           820, 29889,  1551, 24329, 29892,   540,   338,  1476,   304,   367,\n",
              "          1407,  8062,   322,   338,  2534, 14656, 16172,   292, 29889,  3600,\n",
              "          4940, 16083,  4955,   338,  7282,   363,  2999,  7536,   297,  1725,\n",
              "          1953, 26795, 13457,  2133,  3704,  4932, 23448,  5745, 29892,  7568,\n",
              "          4613,   381,  7606,   297,  1725,  1953, 29892,   282, 29765,  6405,\n",
              "         29892,   322,  4457,   375, 23448, 29889,  3600,  3942,  4955,   338,\n",
              "           884,  7282,   363,   263,  1775, 17196, 22169,  1058,  6423,   310,\n",
              "           385,   297, 20309,   408,   263,  2278, 29889, 12016,  1284,   886,\n",
              "          3160,  9263,  1463, 11174,   310, 12815, 29954, 29892, 12815, 29924,\n",
              "         29892, 12815, 29909, 29892,   322,   715, 25392,  9101,   411,  4226,\n",
              "         11174,   310,  7307, 29946,  6374,  9101, 29889,   450, 26823,   393,\n",
              "           338,  1556,  5517, 23503,   573,   297,   445, 16500,   756,   607,\n",
              "           310,   278,  1494,  3168,  8773, 29871,    13, 10998, 29909,  2396,\n",
              "           525,  2865,   262, 24324,   261,  2133,   742,   525, 29933,  2396,\n",
              "           525, 12300,  6727,  1540,  1072,  2785,   742,   525, 29907,  2396,\n",
              "           525, 29931,   952,   359,   290,   284,  1020,   600,   860,   292,\n",
              "           742,   525, 29928,  2396,   525, 29940,  1682,   280,   327,   680,\n",
              "         24754,   482,   742,   525, 29923,  2396,   525,  1184,   371,   262,\n",
              "          1374, 25715,   706, 18411, 16675,    13,    13,  2277, 29937, 13291,\n",
              "         29901,    13]], device='cuda:0')"
            ]
          },
          "metadata": {},
          "execution_count": 34
        }
      ]
    },
    {
      "cell_type": "code",
      "source": [
        "print(prompt)"
      ],
      "metadata": {
        "colab": {
          "base_uri": "https://localhost:8080/"
        },
        "id": "0mRioqENSdXP",
        "outputId": "0fd11fa8-02dc-44ad-9f26-7e5e58b53c4a"
      },
      "execution_count": null,
      "outputs": [
        {
          "output_type": "stream",
          "name": "stdout",
          "text": [
            "\n",
            "Below is an instruction that describes a task, paired with an input that provides further context. Write a response that appropriately completes the request.\n",
            "\n",
            "### Instruction:\n",
            "Please answer with one of the option in the bracket\n",
            "\n",
            "### Input:\n",
            "Q:An 11-year-old boy is brought to the emergency department by his parents with a 2-day history of fever, malaise, and productive cough. On presentation, he is found to be very weak and is having difficulty breathing. His past medical history is significant for multiple prior infections requiring hospitalization including otitis media, upper respiratory infections, pneumonia, and sinusitis. His family history is also significant for a maternal uncle who died of an infection as a child. Lab findings include decreased levels of IgG, IgM, IgA, and plasma cells with normal levels of CD4 positive cells. The protein that is most likely defective in this patient has which of the following functions?? \n",
            "{'A': 'Actin polymerization', 'B': 'Autoimmune regulation', 'C': 'Lysosomal trafficking', 'D': 'Nucleotide salvage', 'E': 'Protein phosphorylation'},\n",
            "\n",
            "### Response:\n",
            "\n"
          ]
        }
      ]
    },
    {
      "cell_type": "code",
      "source": [
        "outputs = model.generate(input_ids=input_ids, max_new_tokens=512, do_sample=True, top_p=0.6,temperature=0.9)\n",
        "\n",
        "print(f\"Instruction:\\n{sample['instruction']}\\n\")\n",
        "print(f\"Input:\\n{sample['input']}\\n\")\n",
        "print(f\"Generated Response:\\n{tokenizer.batch_decode(outputs.detach().cpu().numpy(), skip_special_tokens=True)[0][len(prompt):]}\\n\")\n",
        "print(f\"Ground Truth:\\n{sample['output']}\")"
      ],
      "metadata": {
        "colab": {
          "base_uri": "https://localhost:8080/"
        },
        "id": "5w8JNosASCux",
        "outputId": "6c4b7a44-dc35-4b05-89d5-259bf4cc065a"
      },
      "execution_count": null,
      "outputs": [
        {
          "output_type": "stream",
          "name": "stderr",
          "text": [
            "/usr/local/lib/python3.10/dist-packages/torch/utils/checkpoint.py:429: UserWarning: torch.utils.checkpoint: please pass in use_reentrant=True or use_reentrant=False explicitly. The default value of use_reentrant will be updated to be False in the future. To maintain current behavior, pass use_reentrant=True. It is recommended that you use use_reentrant=False. Refer to docs for more details on the differences between the two variants.\n",
            "  warnings.warn(\n",
            "/usr/local/lib/python3.10/dist-packages/torch/utils/checkpoint.py:61: UserWarning: None of the inputs have requires_grad=True. Gradients will be None\n",
            "  warnings.warn(\n"
          ]
        },
        {
          "output_type": "stream",
          "name": "stdout",
          "text": [
            "Instruction:\n",
            "Please answer with one of the option in the bracket\n",
            "\n",
            "Input:\n",
            "Q:An 11-year-old boy is brought to the emergency department by his parents with a 2-day history of fever, malaise, and productive cough. On presentation, he is found to be very weak and is having difficulty breathing. His past medical history is significant for multiple prior infections requiring hospitalization including otitis media, upper respiratory infections, pneumonia, and sinusitis. His family history is also significant for a maternal uncle who died of an infection as a child. Lab findings include decreased levels of IgG, IgM, IgA, and plasma cells with normal levels of CD4 positive cells. The protein that is most likely defective in this patient has which of the following functions?? \n",
            "{'A': 'Actin polymerization', 'B': 'Autoimmune regulation', 'C': 'Lysosomal trafficking', 'D': 'Nucleotide salvage', 'E': 'Protein phosphorylation'},\n",
            "\n",
            "Generated Response:\n",
            "E: Protein phosphorylation\n",
            "\n",
            "\n",
            "Ground Truth:\n",
            "E: Protein phosphorylation\n"
          ]
        }
      ]
    },
    {
      "cell_type": "markdown",
      "source": [
        "# Merge and save\n",
        "\n",
        "RAM **OOM**: reuire 14GB RAM?"
      ],
      "metadata": {
        "id": "25QzJ87NTVir"
      }
    },
    {
      "cell_type": "code",
      "source": [
        "from peft import AutoPeftModelForCausalLM\n",
        "\n",
        "model = AutoPeftModelForCausalLM.from_pretrained(\n",
        "    # args.output_dir,\n",
        "    \"finetuned-llama-7b-chat-hf-med\",\n",
        "    low_cpu_mem_usage=True,\n",
        ")\n",
        "\n",
        "# Merge LoRA and base model\n",
        "merged_model = model.merge_and_unload()\n",
        "\n",
        "# Save the merged model\n",
        "merged_model.save_pretrained(\"merged-llama2-7b-chat-hf-med\", safe_serialization=True)\n",
        "tokenizer.save_pretrained(\"merged-llama2-7b-chat-hf-med\")"
      ],
      "metadata": {
        "colab": {
          "base_uri": "https://localhost:8080/",
          "height": 49,
          "referenced_widgets": [
            "70a7c28a1320422994036c75b02fe08e",
            "560c18d29c624c44a5508f1b9dee099e",
            "1ffc5f1f49374232bf1789feede1ca61",
            "306a85b1f7a24b5c856c71fd7464e534",
            "78665a010c884511aeae528c1c855817",
            "1753aa8bb10f4be9977886bf0988b7ce",
            "278addef10cb462faa907309ebc9f5a3",
            "08fe2119a7364919bd9cceea7c643d44",
            "f6f584492aa34d55b39582e6ba065c9a",
            "f9c63ca4d0004da69c5d0123420ff4d6",
            "05c58cd5b8ab4f69ba71f81d13487458"
          ]
        },
        "id": "Swz1dabeTYfa",
        "outputId": "2e2d7437-8447-4dd0-8a68-790491a2962a"
      },
      "execution_count": null,
      "outputs": [
        {
          "output_type": "display_data",
          "data": {
            "text/plain": [
              "Loading checkpoint shards:   0%|          | 0/2 [00:00<?, ?it/s]"
            ],
            "application/vnd.jupyter.widget-view+json": {
              "version_major": 2,
              "version_minor": 0,
              "model_id": "70a7c28a1320422994036c75b02fe08e"
            }
          },
          "metadata": {}
        }
      ]
    },
    {
      "cell_type": "code",
      "source": [
        "!ls merged-llama2-7b-chat-hf-med"
      ],
      "metadata": {
        "id": "nJQM5hgKTeYd"
      },
      "execution_count": null,
      "outputs": []
    },
    {
      "cell_type": "markdown",
      "source": [
        "## from comments ( tokenizer.apply_chat_template)"
      ],
      "metadata": {
        "id": "E25ZhWW_rxIn"
      }
    },
    {
      "cell_type": "code",
      "source": [
        "# import os\n",
        "# from google.colab import userdata\n",
        "# userdata.get('HF_TOKEN')\n",
        "\n",
        "# os.environ.update({\n",
        "#     \"HF_TOKEN\": userdata.get('HF_TOKEN')\n",
        "# })\n",
        "\n",
        "# os.getenv(\"HF_TOKEN\")"
      ],
      "metadata": {
        "id": "8vYhsQ9NsGZ2"
      },
      "execution_count": null,
      "outputs": []
    },
    {
      "cell_type": "code",
      "source": [
        "import os\n",
        "assert os.getenv(\"HF_TOKEN\"), \"For gated repo, you must set env var HF_TOKEN or execute huggingface.login('your-hf-token')\""
      ],
      "metadata": {
        "id": "k0Sdcm6ex6b0"
      },
      "execution_count": null,
      "outputs": []
    },
    {
      "cell_type": "code",
      "source": [
        "import locale\n",
        "locale.getpreferredencoding = lambda x=True: \"UTF-8\"\n"
      ],
      "metadata": {
        "id": "Ej02F1XL2FKg"
      },
      "execution_count": null,
      "outputs": []
    },
    {
      "cell_type": "code",
      "source": [
        "o = !huggingface-cli whoami\n",
        "o[0].lower().count(\"not\")"
      ],
      "metadata": {
        "id": "fakArqoB1j_J"
      },
      "execution_count": null,
      "outputs": []
    },
    {
      "cell_type": "code",
      "source": [
        "o"
      ],
      "metadata": {
        "id": "qhMpRSbs2QcJ"
      },
      "execution_count": null,
      "outputs": []
    },
    {
      "cell_type": "code",
      "source": [
        "from transformers import AutoTokenizer"
      ],
      "metadata": {
        "id": "fIIDzpaWwxfN"
      },
      "execution_count": null,
      "outputs": []
    },
    {
      "cell_type": "code",
      "source": [
        "tokenizer = AutoTokenizer.from_pretrained(\"meta-llama/Llama-2-7b-chat-hf\")\n"
      ],
      "metadata": {
        "id": "do4nAKl2stVG"
      },
      "execution_count": null,
      "outputs": []
    },
    {
      "cell_type": "code",
      "source": [
        "messages = [\n",
        "  {'role': 'system', 'content': 'You are a chatbot.'},\n",
        "  {'role': 'user', 'content': 'I am Jack'},\n",
        "   {'role': 'system', 'content': 'Hi Jack.'},\n",
        "  {'role': 'user', 'content': 'How are you?'}\n",
        "]"
      ],
      "metadata": {
        "id": "lSQIOCB8xHb4"
      },
      "execution_count": null,
      "outputs": []
    },
    {
      "cell_type": "code",
      "source": [
        "tokenizer.apply_chat_template?\n",
        "\n",
        "tokenizer.apply_chat_template(messages)"
      ],
      "metadata": {
        "id": "gQMmGxgUw5mh"
      },
      "execution_count": null,
      "outputs": []
    },
    {
      "cell_type": "code",
      "source": [
        "from transformers import AutoTokenizer, AutoModelForCausalLM, pipeline, BitsAndBytesConfig\n",
        "import torch\n",
        "\n",
        "# Load tokenizer and model with QLoRA configuration\n",
        "compute_dtype = getattr(torch, \"float16\")\n",
        "quantization_config = BitsAndBytesConfig(\n",
        "  load_in_8bit=True,\n",
        "  bnb_4bit_quant_type=\"nf4\", # normal float4 (QLora: https://arxiv.org/pdf/2305.14314.pdf)\n",
        "  bnb_4bit_compute_dtype=compute_dtype,\n",
        "  bnb_4bit_use_double_quant=False,\n",
        ")\n",
        "tokenizer = AutoTokenizer.from_pretrained(\"meta-llama/Llama-2-7b-chat-hf\")\n",
        "\n",
        "model = AutoModelForCausalLM.from_pretrained(\"meta-llama/Llama-2-7b-chat-hf\", quantization_config=quantization_config)\n",
        "messages = [\n",
        "{'role': 'system', 'content': 'You are a chatbot.'},\n",
        "{'role': 'user', 'content': 'How are you?'}\n",
        "]\n",
        "\n",
        "pipe = pipeline(\"conversational\", model=model, tokenizer=tokenizer)\n",
        "\n",
        "r = pipe(messages)\n",
        "\n",
        "print(r)"
      ],
      "metadata": {
        "id": "r8ctu3wOryXa"
      },
      "execution_count": null,
      "outputs": []
    }
  ]
}