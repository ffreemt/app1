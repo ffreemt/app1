{
  "nbformat": 4,
  "nbformat_minor": 0,
  "metadata": {
    "colab": {
      "private_outputs": true,
      "provenance": [],
      "toc_visible": true,
      "authorship_tag": "ABX9TyPCwecId1yy49Ugd2yLsn2R",
      "include_colab_link": true
    },
    "kernelspec": {
      "name": "python3",
      "display_name": "Python 3"
    },
    "language_info": {
      "name": "python"
    }
  },
  "cells": [
    {
      "cell_type": "markdown",
      "metadata": {
        "id": "view-in-github",
        "colab_type": "text"
      },
      "source": [
        "<a href=\"https://colab.research.google.com/github/ffreemt/app1/blob/master/succ_ycco_make_upload_model_s_MODEL_ID1_6.ipynb\" target=\"_parent\"><img src=\"https://colab.research.google.com/assets/colab-badge.svg\" alt=\"Open In Colab\"/></a>"
      ]
    },
    {
      "cell_type": "code",
      "execution_count": null,
      "metadata": {
        "id": "L5sSsrEg8nea"
      },
      "outputs": [],
      "source": [
        "# @title pip\n",
        "!pip install -q sentence-transformers huggingface_hub set_env_colab_kaggle_dotenv"
      ]
    },
    {
      "cell_type": "code",
      "source": [
        "# @title login to hf\n",
        "from huggingface_hub import login\n",
        "from set_env import set_env\n",
        "\n",
        "HF_TOKEN = set_env(\"HF_TOKEN\")\n",
        "login(HF_TOKEN)"
      ],
      "metadata": {
        "id": "ohsRTkHQ9XUu"
      },
      "execution_count": null,
      "outputs": []
    },
    {
      "cell_type": "code",
      "source": [
        "# @title create and joblib.dump sentence-transformers/distiluse-base-multilingual-cased-v1\n",
        "\n",
        "from pathlib import Path\n",
        "import joblib\n",
        "\n",
        "from sentence_transformers import SentenceTransformer\n",
        "\n",
        "model_name = \"sentence-transformers/distiluse-base-multilingual-cased-v2\"  # .539GB\n",
        "\n",
        "%time model = SentenceTransformer(model_name)  # 10s 2.44s 1.61s\n",
        "\n",
        "# if not Path(\"model-dir\").exist():\n",
        "Path(\"model_dir\").mkdir(parents=True, exist_ok=True)\n",
        "\n",
        "%time joblib.dump(model, \"model_dir/model-s-v2\")"
      ],
      "metadata": {
        "id": "X-yJ8DmZ893L"
      },
      "execution_count": null,
      "outputs": []
    },
    {
      "cell_type": "code",
      "source": [
        "# @title create and upload hf REPO_ID\n",
        "REPO_ID = 'mikeee/model_s_512v2' # @param {type:\"string\"}\n",
        "from huggingface_hub import HfApi\n",
        "api = HfApi()\n",
        "\n",
        "api.create_repo(REPO_ID, exist_ok=True)\n",
        "\n",
        "api.upload_folder(\n",
        "    folder_path=\"model_dir\",\n",
        "    repo_id=REPO_ID,\n",
        "    repo_type=\"model\",\n",
        ")"
      ],
      "metadata": {
        "id": "fgL_RB8g9zxu"
      },
      "execution_count": null,
      "outputs": []
    },
    {
      "cell_type": "code",
      "source": [
        "!ls -l /content/model_dir"
      ],
      "metadata": {
        "id": "pJxkmC0eAtbd"
      },
      "execution_count": null,
      "outputs": []
    },
    {
      "cell_type": "code",
      "source": [
        "url = hf_hub_url(\"mikeee/model_s_512\", \"model-s\")  # mikeee/model_s_512\n",
        "\n",
        "# https://huggingface.co/mikeee/model_s_512/resolve/main/model_s\n",
        "# https://huggingface.co/mikeee/model_s_512/resolve/main/model-s\n",
        "\n",
        "url"
      ],
      "metadata": {
        "id": "h6v0t3ZyF6Rk"
      },
      "execution_count": null,
      "outputs": []
    },
    {
      "cell_type": "code",
      "source": [
        "!apt update -qq && apt install aria2 -q"
      ],
      "metadata": {
        "id": "uLdFP-hYJYV5"
      },
      "execution_count": null,
      "outputs": []
    },
    {
      "cell_type": "code",
      "source": [
        "!rm model-s\n",
        "# !wget -c {url}"
      ],
      "metadata": {
        "id": "ofW1kJhLKJp_"
      },
      "execution_count": null,
      "outputs": []
    },
    {
      "cell_type": "code",
      "source": [],
      "metadata": {
        "id": "cNnCqW5mKCYe"
      },
      "execution_count": null,
      "outputs": []
    },
    {
      "cell_type": "code",
      "source": [
        "filename = Path(url).name\n",
        "path = \".\"\n",
        "!aria2c --console-log-level=error -c -x 16 -s 16 -k 1M {url} -d {path} -o {filename}"
      ],
      "metadata": {
        "id": "83h5UK2rJnwz"
      },
      "execution_count": null,
      "outputs": []
    },
    {
      "cell_type": "code",
      "source": [
        "hf_hub_download?"
      ],
      "metadata": {
        "id": "RrfKSbqCGvtu"
      },
      "execution_count": null,
      "outputs": []
    },
    {
      "cell_type": "code",
      "source": [
        "import joblib\n",
        "from huggingface_hub import hf_hub_url, hf_hub_download\n",
        "\n",
        "%time loc = hf_hub_download('mikeee/model_s_512', 'model-s', local_dir=\"local_dir\")\n",
        "# 21.5 s, 231 ms\n",
        "\n",
        "display(f\"{loc=}\")\n",
        "%time model = joblib.load(loc)  # 1.78"
      ],
      "metadata": {
        "id": "I1F9VvPOE4Rn"
      },
      "execution_count": null,
      "outputs": []
    },
    {
      "cell_type": "code",
      "source": [
        "# model.encode?\n",
        "# batch_size: int = 32,\n",
        "# convert_to_numpy: bool = True\n",
        "# show_progress_bar: bool = None\n",
        "# normalize_embeddings: bool = False\n",
        "# -> numpy.ndarray"
      ],
      "metadata": {
        "id": "Rd0U0vATL7uh"
      },
      "execution_count": null,
      "outputs": []
    },
    {
      "cell_type": "code",
      "source": [
        "# @title loadtext en zh\n",
        "try:\n",
        "  import loadtext\n",
        "except ModuleNotFoundError:\n",
        "  !pip install -q loadtext\n",
        "\n",
        "from loadtext import loadtext\n",
        "\n",
        "!git clone https://github.com/ffreemt/en-de-zh-txt  # https://github.com/qdrant/fastembed\n",
        "\n",
        "en = loadtext(\"en-de-zh-txt/fangfang-en.txt\", True)\n",
        "zh = loadtext(\"en-de-zh-txt/fangfang-zh.txt\", True)\n",
        "\n",
        "test_en = loadtext(\"en-de-zh-txt/test_en.txt\", 1)\n",
        "test_zh = loadtext(\"en-de-zh-txt/test_zh.txt\", 1)\n",
        "\n",
        "display([len(en), len(zh), len(test_en), len(test_zh)])"
      ],
      "metadata": {
        "id": "KzX3svb0Mguj"
      },
      "execution_count": null,
      "outputs": []
    },
    {
      "cell_type": "code",
      "source": [
        "ls en-de-zh-txt\n"
      ],
      "metadata": {
        "id": "c7tkrpZfQ-5a"
      },
      "execution_count": null,
      "outputs": []
    },
    {
      "cell_type": "code",
      "source": [
        "# @title  import SentenceTransformer\n",
        "try:\n",
        "  import sentence_transformers\n",
        "except ModuleNotFoundError:\n",
        "  !pip install -q sentence_transformers\n",
        "from sentence_transformers import SentenceTransformer\n",
        "\n",
        "MODEL_ID = \"sentence-transformers/distiluse-base-multilingual-cased-v1\"  # .539GB   # 10s 2.44s 1.61s\n",
        "MODEL_ID = \"sentence-transformers/paraphrase-multilingual-MiniLM-L12-v2\"  # .47G 13.4 s\n",
        "\n",
        "%time model = SentenceTransformer(MODEL_ID)\n"
      ],
      "metadata": {
        "id": "UTg-UXYsM5Ub"
      },
      "execution_count": null,
      "outputs": []
    },
    {
      "cell_type": "code",
      "source": [
        "%%time\n",
        "vec_en = model.encode(\n",
        "  en,\n",
        "  batch_size=1,  # en[320] bs1 1min 8s, bs2 1min 8s, bs4 54.2 s\n",
        "  # batch_size=10,  # en[320] bs8 53.9 53.8 s, bs10 52.4 s\n",
        "  # batch_size=16,  # en[:320] bs16 53s 55.8 s\n",
        "  # batch_size=64,   # en[:64], 15s, batch_size=32(default) 18s, en[:320] bs:32 60s 3.5s/it, bs64 1min4s\n",
        "  show_progress_bar=True,\n",
        "  normalize_embeddings=True,\n",
        ")\n",
        "\n",
        "# distiluse-base-multilingual-cased-v1\n",
        "# en[:500] 1 min 30 s\n",
        "# en bs32(default) 2min 37s 2min 35s, bs10 2min 29s, bs100 2min 57s, bs1 3min 35s\n",
        "\n",
        "# sentence-transformers/paraphrase-multilingual-MiniLM-L12-v2\n",
        "# en bs32(default) 1min 37s\n"
      ],
      "metadata": {
        "id": "EfLznbWvOMo5"
      },
      "execution_count": null,
      "outputs": []
    },
    {
      "cell_type": "code",
      "source": [
        "%%time\n",
        "vec_zh = model.encode(\n",
        "  zh,\n",
        "  # batch_size=4,  #\n",
        "  # batch_size=1,  #\n",
        "  # batch_size=16,  #\n",
        "  # batch_size=64,   #\n",
        "  show_progress_bar=True,\n",
        "  normalize_embeddings=True,\n",
        ")\n",
        "\n",
        "# distiluse-base-multilingual-cased-v1\n",
        "# zh bs32(default) 2min 1s 2min 13s, bs10 2min 11s, bs1 745  3min 1s\n",
        "\n",
        "# sentence-transformers/paraphrase-multilingual-MiniLM-L12-v2\n",
        "# zh bs32(default) 1min"
      ],
      "metadata": {
        "id": "bKLWMGQ3UbIm"
      },
      "execution_count": null,
      "outputs": []
    },
    {
      "cell_type": "code",
      "source": [
        "# @title seaborn.heatmap\n",
        "import seaborn as sns\n",
        "\n",
        "# ax = sns.heatmap(vec_en.dot(vec_zh.T), cmap=\"Blues\", cbar=True)"
      ],
      "metadata": {
        "id": "daRY8OrLaBq3"
      },
      "execution_count": null,
      "outputs": []
    },
    {
      "cell_type": "code",
      "source": [
        "# sns.heatmap(cmat.T, cmap=\"Blues\", cbar=True)"
      ],
      "metadata": {
        "id": "z0KnNDvirAJS"
      },
      "execution_count": null,
      "outputs": []
    },
    {
      "cell_type": "code",
      "source": [
        "# sns.heatmap?"
      ],
      "metadata": {
        "id": "2RcBZ_ngdNM9"
      },
      "execution_count": null,
      "outputs": []
    },
    {
      "cell_type": "code",
      "source": [
        "import pandas as pd\n",
        "df = pd.DataFrame(vec_en.dot(vec_zh.T))\n",
        "\n",
        "df.index, df.columns"
      ],
      "metadata": {
        "id": "l4QEaCEldaI3"
      },
      "execution_count": null,
      "outputs": []
    },
    {
      "cell_type": "code",
      "source": [
        "df_index = df.index\n",
        "df_columns = df.columns\n",
        "df_index.rename(\"en\", inplace=True)\n",
        "df_columns.rename(\"zh\", inplace=True)\n",
        "\n",
        "display(df_index, df_columns)\n",
        "df.index, df.columns = df_index, df_columns\n",
        "df"
      ],
      "metadata": {
        "id": "wW1Z66dWd-TV"
      },
      "execution_count": null,
      "outputs": []
    },
    {
      "cell_type": "code",
      "source": [
        "ax = sns.heatmap(df, cmap=\"Blues\", cbar=True)"
      ],
      "metadata": {
        "id": "oqccmG_hfCTd"
      },
      "execution_count": null,
      "outputs": []
    },
    {
      "cell_type": "code",
      "source": [
        "loc = hf_hub_download(\"mikeee/model_s_512\", \"model-s\", local_dir=\".\")"
      ],
      "metadata": {
        "id": "Fk2kIPokdtGf"
      },
      "execution_count": null,
      "outputs": []
    },
    {
      "cell_type": "code",
      "source": [
        "\"\"\"\n",
        "Load model_s from hf.\n",
        "\n",
        "cf aslo align-model-pool\\model_pool\\load_model.py and ycco make-upload-model-s.ipynb.\n",
        "\"\"\"\n",
        "import joblib\n",
        "from huggingface_hub import hf_hub_download\n",
        "from loguru import logger\n",
        "\n",
        "try:\n",
        "    loc = hf_hub_download(\"mikeee/model_s_512\", \"model-s\", local_dir=\".\")\n",
        "except Exception as exc:\n",
        "    logger.error(exc)\n",
        "    raise SystemExit(1) from exc\n",
        "\n",
        "def load_model_s(model_file=None):\n",
        "    \"\"\"Load a model from hf.\"\"\"\n",
        "    if model_file is None:\n",
        "        model_file = loc\n",
        "    try:\n",
        "        model = joblib.load(model_file)\n",
        "    except Exception as exc:\n",
        "        logger.error(exc)\n",
        "        raise\n",
        "    return model\n"
      ],
      "metadata": {
        "id": "CXd42yU6kuCv"
      },
      "execution_count": null,
      "outputs": []
    },
    {
      "cell_type": "code",
      "source": [
        "%time model_s0 = load_model_s()"
      ],
      "metadata": {
        "id": "EIAxfl4Bld4s"
      },
      "execution_count": null,
      "outputs": []
    },
    {
      "cell_type": "code",
      "source": [
        "all(model_s0.encode(\"test 测试\") == model.encode(\"test 测试\"))"
      ],
      "metadata": {
        "id": "Xjf26ybllsin"
      },
      "execution_count": null,
      "outputs": []
    },
    {
      "cell_type": "code",
      "source": [
        "!ls -l en-de-zh-txt"
      ],
      "metadata": {
        "id": "Gnwd2SEllO2i"
      },
      "execution_count": null,
      "outputs": []
    },
    {
      "cell_type": "code",
      "source": [
        "import numpy as np\n",
        "paras1 = loadtext(\"en-de-zh-txt/sternstunden04-en.txt\", splitlines=True)\n",
        "paras2 = loadtext(\"en-de-zh-txt/sternstunden04-de.txt\", True)\n",
        "\n",
        "# red-sorghum_ch1_en.txt\n",
        "paras1 = loadtext(\"en-de-zh-txt/red-sorghum_ch1_en.txt\", splitlines=True)\n",
        "paras2 = loadtext(\"en-de-zh-txt/red-sorghum_ch1_zh.txt\", True)\n",
        "\n",
        "paras1 = loadtext(\"en-de-zh-txt/fangfang-en.txt\", splitlines=True)\n",
        "paras2 = loadtext(\"en-de-zh-txt/fangfang-zh.txt\", True)\n",
        "\n",
        "display(len(paras1), len(paras2))\n",
        "\n",
        "# cmat = gen_cmat(paras1, paras2)\n",
        "cmat = np.dot(model.encode(paras2, show_progress_bar=1, normalize_embeddings=1), model.encode(paras1, show_progress_bar=1, normalize_embeddings=1).T)\n",
        "\n",
        "sns.heatmap(cmat)"
      ],
      "metadata": {
        "id": "C05wOGTLoPDR"
      },
      "execution_count": null,
      "outputs": []
    },
    {
      "cell_type": "code",
      "source": [
        "sns.heatmap(cmat.T, cmap=\"Blues\", cbar=True)"
      ],
      "metadata": {
        "id": "H-wEsFEWqcUQ"
      },
      "execution_count": null,
      "outputs": []
    },
    {
      "cell_type": "code",
      "source": [
        "MODEL_ID = \"sentence-transformers/multi-qa-mpnet-base-dot-v1\"  # .43G 8s dim768\n",
        "%time model = SentenceTransformer(MODEL_ID)\n",
        "%time cmat = np.dot(model.encode(paras2, show_progress_bar=1, normalize_embeddings=1), model.encode(paras1, show_progress_bar=1, normalize_embeddings=1).T)\n",
        "\n",
        "sns.heatmap(cmat.T, cmap=\"Blues\", cbar=True)"
      ],
      "metadata": {
        "id": "E48jAruct1we"
      },
      "execution_count": null,
      "outputs": []
    },
    {
      "cell_type": "code",
      "source": [
        "# @title def plot_cmat\n",
        "# @title  import SentenceTransformer\n",
        "try:\n",
        "  import sentence_transformers\n",
        "except ModuleNotFoundError:\n",
        "  !pip install -q sentence_transformers\n",
        "\n",
        "from sentence_transformers import SentenceTransformer\n",
        "import numpy as np\n",
        "import seaborn as sns\n",
        "sns.set(style=\"whitegrid\")\n",
        "\n",
        "MODEL_ID1 = \"sentence-transformers/distiluse-base-multilingual-cased-v2\"\n",
        "MODEL_ID2 = \"sentence-transformers/distiluse-base-multilingual-cased-v1\"  # dim512\n",
        "MODEL_ID3 = \"sentence-transformers/multi-qa-mpnet-base-dot-v1\"  # .43G 8s dim768\n",
        "MODEL_ID4 = \"sentence-transformers/multi-qa-distilbert-cos-v1\"  #\n",
        "MODEL_ID5 = \"sentence-transformers/paraphrase-multilingual-MiniLM-L12-v2\"  # dim384\n",
        "MODEL_ID6 = \"paraphrase-multilingual-mpnet-base-v2\"\n",
        "\n",
        "def plot_cmat(MODEL_ID=None, paras1=None, paras2=None, bs=10):\n",
        "# def plot_cmat1(MODEL_ID, txt1, txt2, bs=10):\n",
        "  # _ = \"\"\"\n",
        "  if MODEL_ID is None:\n",
        "    MODEL_ID = MODEL_ID1\n",
        "\n",
        "  if paras1 is None:\n",
        "    paras1 = en[:]\n",
        "  else:\n",
        "    display(len(paras1))\n",
        "  if paras2 is None:\n",
        "    paras2 = zh[:]\n",
        "  else:\n",
        "    display(len(paras2))\n",
        "  # \"\"\"\n",
        "\n",
        "  # paras1 = txt1[:]\n",
        "  # paras2 = txt2[:]\n",
        "\n",
        "  display(\"******\")\n",
        "  display(f\"{paras1=}, {paras2=}\")\n",
        "\n",
        "  display([len(paras1), len(paras2)])\n",
        "\n",
        "  model = SentenceTransformer(MODEL_ID)\n",
        "  display(f\"{MODEL_ID=}, {model=}\")\n",
        "\n",
        "  v_en = model.encode(paras1, show_progress_bar=1, normalize_embeddings=1, batch_size=bs)\n",
        "  v_zh = model.encode(paras2, show_progress_bar=1, normalize_embeddings=1, batch_size=bs)\n",
        "\n",
        "  # display(v_en)\n",
        "  # display(v_zh)\n",
        "\n",
        "  display([v_en.shape, v_zh.shape])\n",
        "\n",
        "  cmat = np.dot(v_zh, v_en.T)\n",
        "  plot_cmat.cmat = cmat\n",
        "\n",
        "  sns.heatmap(cmat, cmap=\"Blues\", cbar=True)\n",
        "  return cmat\n",
        "\n",
        "# plot_cmat()"
      ],
      "metadata": {
        "id": "w4InaPN9A2SG"
      },
      "execution_count": null,
      "outputs": []
    },
    {
      "cell_type": "code",
      "source": [
        "# @title MODEL_ID1 \"sentence-transformers/distiluse-base-multilingual-cased-v2\"\n",
        "_ = plot_cmat(MODEL_ID1)\n",
        "_.shape\n",
        "\n",
        "# 02:08 01:58"
      ],
      "metadata": {
        "id": "G3Ah-w3CsQu_"
      },
      "execution_count": null,
      "outputs": []
    },
    {
      "cell_type": "code",
      "source": [
        "_ = plot_cmat(MODEL_ID1, bs=16)\n",
        "\n",
        "# bs32 02:15 01:54\n",
        "# bs=16 02:10 01:51"
      ],
      "metadata": {
        "id": "921c6-Dv0gEv"
      },
      "execution_count": null,
      "outputs": []
    },
    {
      "cell_type": "code",
      "source": [
        "# @title MODEL_ID2 \"sentence-transformers/distiluse-base-multilingual-cased-v1\"\n",
        "_ = plot_cmat(MODEL_ID2)\n",
        "_.shape\n",
        "\n",
        "# 02:12 01:53"
      ],
      "metadata": {
        "id": "SjidxkvStD5N"
      },
      "execution_count": null,
      "outputs": []
    },
    {
      "cell_type": "code",
      "source": [
        "# @title MODEL_ID3 09:17 06:47 sentence-transformers/multi-qa-mpnet-base-dot-v1\n",
        "_ = plot_cmat(MODEL_ID3)\n",
        "_.shape\n",
        "\n",
        "# 09:17 06:47"
      ],
      "metadata": {
        "id": "cnOgMdvCuGsd"
      },
      "execution_count": null,
      "outputs": []
    },
    {
      "cell_type": "code",
      "source": [
        "# @title MODEL_ID4 sentence-transformers/multi-qa-distilbert-cos-v1\n",
        "_ = plot_cmat(MODEL_ID4)\n",
        "_.shape\n",
        "\n",
        "# 04:28 03:22"
      ],
      "metadata": {
        "id": "nwxMpNnhu2Cy"
      },
      "execution_count": null,
      "outputs": []
    },
    {
      "cell_type": "code",
      "source": [
        "# @title **!! MODEL_ID5 01:21 01:01 sentence-transformers/paraphrase-multilingual-MiniLM-L12-v2**\n",
        "_ = plot_cmat(MODEL_ID5)\n",
        "_.shape\n",
        "\n",
        "# 01:21 01:01"
      ],
      "metadata": {
        "id": "1wbWsX8Mu-kg"
      },
      "execution_count": null,
      "outputs": []
    },
    {
      "cell_type": "code",
      "source": [
        "# @title MODEL_ID6\n",
        "_ = plot_cmat(MODEL_ID6)\n",
        "_.shape\n",
        "\n",
        "#"
      ],
      "metadata": {
        "id": "EXqjMlnv8I7D"
      },
      "execution_count": null,
      "outputs": []
    },
    {
      "cell_type": "code",
      "source": [
        "# @title \"intfloat/multilingual-e5-large\"\n",
        "\n",
        "_ = plot_cmat(\"intfloat/multilingual-e5-large\", en, zh)\n",
        "_.shape"
      ],
      "metadata": {
        "id": "0_mbFbgRvR0l"
      },
      "execution_count": null,
      "outputs": []
    },
    {
      "cell_type": "code",
      "source": [
        "# @title MODEL_ID1 sentence-transformers/multi-qa-mpnet-base-dot-v1\n",
        "plot_cmat(MODEL_ID1)  # 1.51 s  9min 23 7min 15s"
      ],
      "metadata": {
        "id": "8IlVWkHfWB3o"
      },
      "execution_count": null,
      "outputs": []
    },
    {
      "cell_type": "code",
      "source": [
        "plot_cmat()  # MODEL_ID2 2.08 s 4min 21s 3min 47s"
      ],
      "metadata": {
        "id": "fX5vX6cwTVCq"
      },
      "execution_count": null,
      "outputs": []
    },
    {
      "cell_type": "code",
      "source": [
        "plot_cmat(MODEL_ID3)  # 8s, 2min 5s, 1min 50s"
      ],
      "metadata": {
        "id": "5EJ4yi6dWRhP"
      },
      "execution_count": null,
      "outputs": []
    },
    {
      "cell_type": "code",
      "source": [
        "plot_cmat(MODEL_ID4)  # 4s  1min 50s 1min"
      ],
      "metadata": {
        "id": "j-QEFxRiWVii"
      },
      "execution_count": null,
      "outputs": []
    },
    {
      "cell_type": "code",
      "source": [
        "# @title Nepali\n",
        "\n",
        "txt1 = [\"पनौतीका बाआमाले खानेकुरा खोज्न विहान सबेरै घर छाडेका थिए । छिमेकी प्राय: सबैले गाउँ छाडिसकेका थिए । गाउँमा चोर र डाँकाहरूको बिगबिगी सुरु भइसकेको थियो । पनौतीको घरमा पनि दिनदिनै केही अपरिचित मान्छेहरू आएर भित्र पस्थे अनि केही खानेकुरा नपाउँदा रिसाएर हिँड्थे ।\",\n",
        "        \"तलको तालिकाले (चयन गरिएको) मोडेलहरूको सिंहावलोकन प्रदान गर्दछ। इम्बेडिङ वाक्यहरूमा तिनीहरूको गुणस्तर (कार्यसम्पादन वाक्य इम्बेडिङ) र इम्बेडिङ खोज प्रश्नहरू र अनुच्छेदहरू (कार्यसम्पादन सिमान्टिक खोज) व्यापक रूपमा मूल्याङ्कन गरिएको छ।\"]\n",
        "\n",
        "txt2 = [\"帕诺蒂的父母每天一大早就出去寻找食物，几乎所有的邻居都已经匆匆离开了村子，留下了小偷和强盗在村中横行霸道。即便在帕诺蒂的家中，每天也有陌生人闯入，当得不到任何食物时，他们怒气冲天地离去。\",\n",
        "        \"下表提供了（选定的）型号的概述。 它们的嵌入句子（性能句子嵌入）和嵌入搜索查询和段落（性能语义搜索）的质量已得到广泛评估。\"]\n",
        "\n"
      ],
      "metadata": {
        "id": "FMJWsLA6aeOK"
      },
      "execution_count": null,
      "outputs": []
    },
    {
      "cell_type": "code",
      "source": [
        "plot_cmat(MODEL_ID1, txt1, txt2)\n",
        "\n"
      ],
      "metadata": {
        "id": "BnDGpFleov0J"
      },
      "execution_count": null,
      "outputs": []
    },
    {
      "cell_type": "code",
      "source": [
        "plot_cmat(MODEL_ID2, txt1, txt2)\n"
      ],
      "metadata": {
        "id": "I9pcmWeLpkO_"
      },
      "execution_count": null,
      "outputs": []
    },
    {
      "cell_type": "code",
      "source": [
        "plot_cmat(MODEL_ID3, txt1, txt2)\n"
      ],
      "metadata": {
        "id": "Gbyyezj4mcCx"
      },
      "execution_count": null,
      "outputs": []
    },
    {
      "cell_type": "code",
      "source": [
        "plot_cmat(MODEL_ID4, txt1, txt2)"
      ],
      "metadata": {
        "id": "lplITZZ6edhv"
      },
      "execution_count": null,
      "outputs": []
    },
    {
      "cell_type": "code",
      "source": [
        "# sentence-transformers/distiluse-base-multilingual-cased-v2\n",
        "\n",
        "plot_cmat(\"sentence-transformers/distiluse-base-multilingual-cased-v2\", txt1, txt2)"
      ],
      "metadata": {
        "id": "Z_5LmmGVcxVH"
      },
      "execution_count": null,
      "outputs": []
    },
    {
      "cell_type": "code",
      "source": [
        "# @title MODEL_ID5\n",
        "plot_cmat(MODEL_ID5, txt1, txt2)"
      ],
      "metadata": {
        "id": "OLw4KIw23ZNp"
      },
      "execution_count": null,
      "outputs": []
    },
    {
      "cell_type": "code",
      "source": [
        "# @title \"intfloat/multilingual-e5-large\"\n",
        "\n",
        "plot_cmat(\"intfloat/multilingual-e5-large\", txt1, txt2)"
      ],
      "metadata": {
        "id": "Mq-X59oD4TbK"
      },
      "execution_count": null,
      "outputs": []
    },
    {
      "cell_type": "code",
      "source": [
        "# @title  test_en.txt test_zh.txt\n",
        "test_en = loadtext(\"en-de-zh-txt/test_en.txt\", 1)\n",
        "test_zh = loadtext(\"en-de-zh-txt/test_zh.txt\", 1)"
      ],
      "metadata": {
        "id": "xoPxSVr2RnBK"
      },
      "execution_count": null,
      "outputs": []
    },
    {
      "cell_type": "code",
      "source": [
        "# @title MODEL_ID5\n",
        "\n",
        "plot_cmat(MODEL_ID5, test_en, test_zh)"
      ],
      "metadata": {
        "id": "Aqir_IePRLVf"
      },
      "execution_count": null,
      "outputs": []
    },
    {
      "cell_type": "code",
      "source": [
        "# @title MODEL_ID1\n",
        "\n",
        "plot_cmat(MODEL_ID1, test_en, test_zh)"
      ],
      "metadata": {
        "id": "EfhWAHbBSYzk"
      },
      "execution_count": null,
      "outputs": []
    },
    {
      "cell_type": "code",
      "source": [
        "# @title MODEL_ID2\n",
        "\n",
        "plot_cmat(MODEL_ID2, test_en, test_zh)"
      ],
      "metadata": {
        "id": "f_hcFvCnS4a9"
      },
      "execution_count": null,
      "outputs": []
    },
    {
      "cell_type": "code",
      "source": [
        "# @title pad\n",
        "MODEL_ID1 = \"sentence-transformers/multi-qa-mpnet-base-dot-v1\"  # .43G 8s dim768\n",
        "MODEL_ID2 = \"sentence-transformers/multi-qa-distilbert-cos-v1\"  # .25G dim768\n",
        "# MODEL_ID3 = \"sentence-transformers/distiluse-base-multilingual-cased-v1\"  # dim512\n",
        "# MODEL_ID4 = \"sentence-transformers/paraphrase-multilingual-MiniLM-L12-v2\"  # dim384\n",
        "\n",
        "MODEL_ID = MODEL_ID2\n",
        "\n",
        "paras1 = en[:]\n",
        "paras2 = zh[:]\n",
        "\n",
        "display(f\"{len(paras1)=}, {len(paras2)=}\")\n",
        "\n",
        "%time model = SentenceTransformer(MODEL_ID)\n",
        "display(f\"{MODEL_ID=}, {model=}\")\n",
        "\n",
        "%time v_en = model.encode(paras1, show_progress_bar=1, normalize_embeddings=1)\n",
        "%time v_zh = model.encode(paras2, show_progress_bar=1, normalize_embeddings=1)\n",
        "%time cmat = np.dot(v_zh, v_en.T)\n",
        "\n",
        "sns.heatmap(cmat.T, cmap=\"Blues\", cbar=True)\n"
      ],
      "metadata": {
        "id": "pUIIcLcPD5SU"
      },
      "execution_count": null,
      "outputs": []
    },
    {
      "cell_type": "code",
      "source": [
        "display(f\"{len(paras1)=}, {len(paras2)=}\")\n",
        "\n",
        "%time model = SentenceTransformer(MODEL_ID)\n",
        "%time v_en = model.encode(paras1, show_progress_bar=1, normalize_embeddings=1)"
      ],
      "metadata": {
        "id": "wmAwam4KPQG0"
      },
      "execution_count": null,
      "outputs": []
    },
    {
      "cell_type": "code",
      "source": [
        "# intfloat/e5-large-v2\n",
        "\n",
        "plot_cmat(\"intfloat/e5-large-v2\")\n"
      ],
      "metadata": {
        "id": "1WH06DnjuLv2"
      },
      "execution_count": null,
      "outputs": []
    },
    {
      "cell_type": "code",
      "source": [
        "# @title Test model-s-v2 mikeee/model_s_512v2\n",
        "%%time\n",
        "\n",
        "import joblib\n",
        "from loguru import logger\n",
        "from huggingface_hub import hf_hub_download\n",
        "\n",
        "try:\n",
        "  loc = hf_hub_download(\"mikeee/model_s_512\", \"model-s\", local_dir=\".\")\n",
        "  loc2 = hf_hub_download(\"mikeee/model_s_512v2\", \"model-s-v2\", local_dir=\".\")\n",
        "except Exception as exc:\n",
        "  logger.error(exc)\n",
        "  raise SystemExit(1) from exc\n",
        "\n"
      ],
      "metadata": {
        "id": "KhMxlAMVmq8U"
      },
      "execution_count": null,
      "outputs": []
    },
    {
      "cell_type": "code",
      "source": [
        "%time model = joblib.load(loc)\n",
        "%time model2 = joblib.load(loc2)"
      ],
      "metadata": {
        "id": "F_cKKa0woHnJ"
      },
      "execution_count": null,
      "outputs": []
    },
    {
      "cell_type": "code",
      "source": [
        "import numpy as np\n",
        "import seaborn as sns\n",
        "sns.set(style=\"whitegrid\")\n",
        "\n",
        "encode = lambda vec: model.encode(vec, show_progress_bar=True, normalize_embeddings=True, batch_size=10)\n",
        "encode2 = lambda vec: model2.encode(vec, show_progress_bar=True, normalize_embeddings=True, batch_size=10)\n",
        "\n",
        "ax = sns.heatmap(np.dot(encode(test_zh), encode(test_en).T), cmap=\"Blues\")"
      ],
      "metadata": {
        "id": "B9f2RHI3poNh"
      },
      "execution_count": null,
      "outputs": []
    },
    {
      "cell_type": "code",
      "source": [
        "ax2 = sns.heatmap(np.dot(encode2(test_zh), encode2(test_en).T), cmap=\"Blues\")"
      ],
      "metadata": {
        "id": "5fdFZ9ForeLp"
      },
      "execution_count": null,
      "outputs": []
    },
    {
      "cell_type": "code",
      "source": [
        "# model.encode?"
      ],
      "metadata": {
        "id": "QeukA3NvqLmb"
      },
      "execution_count": null,
      "outputs": []
    },
    {
      "cell_type": "code",
      "source": [],
      "metadata": {
        "id": "vXSj6fSyqMvx"
      },
      "execution_count": null,
      "outputs": []
    }
  ]
}