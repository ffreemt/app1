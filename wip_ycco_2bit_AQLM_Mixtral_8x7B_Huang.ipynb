{
  "nbformat": 4,
  "nbformat_minor": 0,
  "metadata": {
    "colab": {
      "private_outputs": true,
      "provenance": [],
      "gpuType": "T4",
      "authorship_tag": "ABX9TyOHLkH1npWMU/AbMIASs/v1",
      "include_colab_link": true
    },
    "kernelspec": {
      "name": "python3",
      "display_name": "Python 3"
    },
    "language_info": {
      "name": "python"
    },
    "accelerator": "GPU"
  },
  "cells": [
    {
      "cell_type": "markdown",
      "metadata": {
        "id": "view-in-github",
        "colab_type": "text"
      },
      "source": [
        "<a href=\"https://colab.research.google.com/github/ffreemt/app1/blob/master/wip_ycco_2bit_AQLM_Mixtral_8x7B_Huang.ipynb\" target=\"_parent\"><img src=\"https://colab.research.google.com/assets/colab-badge.svg\" alt=\"Open In Colab\"/></a>"
      ]
    },
    {
      "cell_type": "markdown",
      "source": [
        " https://freedium.cfd/https://levelup.gitconnected.com/the-2-bit-quantization-is-insane-see-how-to-run-mixtral-8x7b-on-free-tier-colab-2803e39b9b9d  **The 2-bit Quantization is Insane! See How to Run Mixtral-8x7B on Free-tier Colab**"
      ],
      "metadata": {
        "id": "KOhw2QshrlZL"
      }
    },
    {
      "cell_type": "code",
      "execution_count": null,
      "metadata": {
        "id": "lgzJEMkgrkAJ"
      },
      "outputs": [],
      "source": [
        "!pip install aqlm[gpu]==1.0.1 -q\n",
        "!pip install git+https://github.com/huggingface/accelerate.git@main -q\n",
        "!pip install git+https://github.com/BlackSamorez/transformers.git@aqlm -q"
      ]
    },
    {
      "cell_type": "code",
      "source": [
        "from transformers import AutoTokenizer, AutoModelForCausalLM\n",
        "quantized_model = AutoModelForCausalLM.from_pretrained(\n",
        "    \"BlackSamorez/Mixtral-8x7b-AQLM-2Bit-1x16-hf-test-dispatch\",\n",
        "    torch_dtype=\"auto\", device_map=\"auto\", low_cpu_mem_usage=True,\n",
        "    trust_remote_code=True,\n",
        ")\n",
        "tokenizer = AutoTokenizer.from_pretrained(\"Mixtral-8x7B-v0.1\")"
      ],
      "metadata": {
        "id": "7TS-ChJ6sUvo"
      },
      "execution_count": null,
      "outputs": []
    },
    {
      "cell_type": "code",
      "source": [
        "%%time\n",
        "output = quantized_model.generate(tokenizer(\"The relationship between humans and AI  \", return_tensors=\"pt\")[\"input_ids\"].cuda(), min_new_tokens=128, max_new_tokens=128)\n",
        "print(tokenizer.decode(output[0]))"
      ],
      "metadata": {
        "id": "f_s2nlQWsgB3"
      },
      "execution_count": null,
      "outputs": []
    },
    {
      "cell_type": "code",
      "source": [
        "import json\n",
        "import textwrap\n",
        "\n",
        "system_prompt = \"A chat between a curious user and a blog writing assistant. \"\n",
        "\n",
        "def get_prompt(human_prompt):\n",
        "    prompt_template=f\"{system_prompt}\\n\\nUSER: {human_prompt} \\nASSISTANT: \"\n",
        "    return prompt_template"
      ],
      "metadata": {
        "id": "26YyCeWnsWpx"
      },
      "execution_count": null,
      "outputs": []
    },
    {
      "cell_type": "code",
      "source": [
        "def remove_human_text(text):\n",
        "    return text.split('USER:', 1)[0]\n",
        "\n",
        "def parse_text(data):\n",
        "    for item in data:\n",
        "        text = item['generated_text']\n",
        "        assistant_text_index = text.find('ASSISTANT:')\n",
        "        if assistant_text_index != -1:\n",
        "            assistant_text = text[assistant_text_index+len('ASSISTANT:'):].strip()\n",
        "            assistant_text = remove_human_text(assistant_text)\n",
        "            wrapped_text = textwrap.fill(assistant_text, width=100)\n",
        "            print(\"#####\", wrapped_text)\n",
        "            # return assistant_text"
      ],
      "metadata": {
        "id": "YAWRXs0ysofo"
      },
      "execution_count": null,
      "outputs": []
    },
    {
      "cell_type": "code",
      "source": [
        "from transformers import pipeline\n",
        "pipe = pipeline(\n",
        "    \"text-generation\",\n",
        "    model=quantized_model,\n",
        "    tokenizer=tokenizer,\n",
        "    max_length=1200,\n",
        "    temperature=0.7,\n",
        "    top_p=0.95,\n",
        "    do_sample=True,\n",
        ")"
      ],
      "metadata": {
        "id": "_aFp5evrsrur"
      },
      "execution_count": null,
      "outputs": []
    },
    {
      "cell_type": "code",
      "source": [
        "%%time\n",
        "prompt = 'Write a short and engaging blog post of traveling in Bohol Island. '\n",
        "raw_output = pipe(get_prompt(prompt))\n",
        "\n",
        "parse_text(raw_output)"
      ],
      "metadata": {
        "id": "Jlb9KTQWsuQM"
      },
      "execution_count": null,
      "outputs": []
    },
    {
      "cell_type": "code",
      "source": [
        "!nvidia-smi"
      ],
      "metadata": {
        "id": "GkEUBG_ys1Rz"
      },
      "execution_count": null,
      "outputs": []
    },
    {
      "cell_type": "code",
      "source": [
        "%%time\n",
        "prompt = '''Write a short python code to calculate factorial.\n",
        "          '''\n",
        "raw_output = pipe(get_prompt(prompt))\n",
        "\n",
        "parse_text(raw_output)"
      ],
      "metadata": {
        "id": "6UrfDYT_s0Ki"
      },
      "execution_count": null,
      "outputs": []
    }
  ]
}