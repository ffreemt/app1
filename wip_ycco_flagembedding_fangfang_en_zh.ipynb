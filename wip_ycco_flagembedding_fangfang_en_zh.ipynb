{
  "nbformat": 4,
  "nbformat_minor": 0,
  "metadata": {
    "colab": {
      "private_outputs": true,
      "provenance": [],
      "authorship_tag": "ABX9TyPqLRoY5p3zw1uEkna0fYQs",
      "include_colab_link": true
    },
    "kernelspec": {
      "name": "python3",
      "display_name": "Python 3"
    },
    "language_info": {
      "name": "python"
    }
  },
  "cells": [
    {
      "cell_type": "markdown",
      "metadata": {
        "id": "view-in-github",
        "colab_type": "text"
      },
      "source": [
        "<a href=\"https://colab.research.google.com/github/ffreemt/app1/blob/master/wip_ycco_flagembedding_fangfang_en_zh.ipynb\" target=\"_parent\"><img src=\"https://colab.research.google.com/assets/colab-badge.svg\" alt=\"Open In Colab\"/></a>"
      ]
    },
    {
      "cell_type": "code",
      "execution_count": null,
      "metadata": {
        "id": "7xx8aUMAoUDg"
      },
      "outputs": [],
      "source": [
        "try:\n",
        "  import loadtext\n",
        "except ModuleNotFoundError:\n",
        "  !pip install -q loadtext\n",
        "from loadtext import loadtext\n",
        "\n",
        "!git clone https://github.com/ffreemt/en-de-zh-txt"
      ]
    },
    {
      "cell_type": "code",
      "source": [
        "en = loadtext(\"en-de-zh-txt/fangfang-en.txt\", 1)\n",
        "zh = loadtext(\"en-de-zh-txt/fangfang-zh.txt\", 1)"
      ],
      "metadata": {
        "id": "ECKQyIBsqUpG"
      },
      "execution_count": null,
      "outputs": []
    },
    {
      "cell_type": "code",
      "source": [
        "!pip install -q FlagEmbedding"
      ],
      "metadata": {
        "id": "EQR6shpQpN1x"
      },
      "execution_count": null,
      "outputs": []
    },
    {
      "cell_type": "markdown",
      "source": [
        "```\n",
        "# https://www.tizi365.com/topic/10092.html\n",
        "\n",
        "from FlagEmbedding import FlagModel\n",
        "sentences = [\"样例数据-1\", \"样例数据-2\"]\n",
        "model = FlagModel('BAAI/bge-large-zh-v1.5',\n",
        "                  query_instruction_for_retrieval=\"为这个句子生成表示以用于检索相关文章：\",\n",
        "                  use_fp16=True) # 设置use_fp16为True可以加快计算，效果会稍有下降\n",
        "embeddings_1 = model.encode(sentences)\n",
        "embeddings_2 = model.encode(sentences)\n",
        "similarity = embeddings_1 @ embeddings_2.T\n",
        "print(similarity)\n",
        "\n",
        "# 对于短查询到长文档的检索任务，请对查询使用 encode_queries() 函数，其会自动为每个查询加上指令\n",
        "# 由于候选文本不需要添加指令，检索中的候选集依然使用 encode() 或 encode_corpus() 函数\n",
        "queries = ['query_1', 'query_2']\n",
        "passages = [\"样例文档-1\", \"样例文档-2\"]\n",
        "q_embeddings = model.encode_queries(queries)\n",
        "p_embeddings = model.encode(passages)\n",
        "scores = q_embeddings @ p_embeddings.T\n",
        "```"
      ],
      "metadata": {
        "id": "tz7aCZKhpWJ3"
      }
    },
    {
      "cell_type": "code",
      "source": [
        "from FlagEmbedding import FlagModel"
      ],
      "metadata": {
        "id": "HL1gjs0qp88d"
      },
      "execution_count": null,
      "outputs": []
    },
    {
      "cell_type": "code",
      "source": [
        "FlagModel?"
      ],
      "metadata": {
        "id": "byFYIFNVp9x2"
      },
      "execution_count": null,
      "outputs": []
    },
    {
      "cell_type": "code",
      "source": [
        "from FlagEmbedding import FlagModel\n",
        "MODEL_ID7 = \"BAAI/bge-m3\"\n",
        "\n",
        "model = FlagModel(MODEL_ID7,\n",
        "                  use_fp16=True)"
      ],
      "metadata": {
        "id": "WLf4ZgV_ppxz"
      },
      "execution_count": null,
      "outputs": []
    },
    {
      "cell_type": "code",
      "source": [
        "%time embeddings_1 = model.encode(en)  # RAM OOM\n",
        "%time embeddings_2 = model.encode(zh)\n",
        "similarity = embeddings_1 @ embeddings_2.T"
      ],
      "metadata": {
        "id": "KdP38-y9qnGG"
      },
      "execution_count": null,
      "outputs": []
    },
    {
      "cell_type": "code",
      "source": [
        "try:\n",
        "  import seaborn\n",
        "except\n",
        "import seaborn as sns"
      ],
      "metadata": {
        "id": "4HnEkDoZqyGZ"
      },
      "execution_count": null,
      "outputs": []
    }
  ]
}